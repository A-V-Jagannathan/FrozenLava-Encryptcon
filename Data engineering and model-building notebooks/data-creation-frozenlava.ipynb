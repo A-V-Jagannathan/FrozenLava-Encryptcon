{
 "cells": [
  {
   "cell_type": "code",
   "execution_count": 1,
   "id": "8f1d9d45",
   "metadata": {
    "_cell_guid": "b1076dfc-b9ad-4769-8c92-a6c4dae69d19",
    "_uuid": "8f2839f25d086af736a60e9eeb907d3b93b6e0e5",
    "execution": {
     "iopub.execute_input": "2024-01-05T00:00:37.324812Z",
     "iopub.status.busy": "2024-01-05T00:00:37.324150Z",
     "iopub.status.idle": "2024-01-05T00:00:37.849823Z",
     "shell.execute_reply": "2024-01-05T00:00:37.848490Z"
    },
    "papermill": {
     "duration": 0.538084,
     "end_time": "2024-01-05T00:00:37.852840",
     "exception": false,
     "start_time": "2024-01-05T00:00:37.314756",
     "status": "completed"
    },
    "tags": []
   },
   "outputs": [
    {
     "name": "stdout",
     "output_type": "stream",
     "text": [
      "/kaggle/input/data-frozenlava/label_encoder.pkl\n",
      "/kaggle/input/data-frozenlava/Transaction_details (2).csv\n",
      "/kaggle/input/data-frozenlava/Customers_data (3).csv\n",
      "/kaggle/input/data-frozenlava/Customer_cluster.csv\n",
      "/kaggle/input/data-frozenlava/standard_scaler.pkl\n"
     ]
    }
   ],
   "source": [
    "# This Python 3 environment comes with many helpful analytics libraries installed\n",
    "# It is defined by the kaggle/python Docker image: https://github.com/kaggle/docker-python\n",
    "# For example, here's several helpful packages to load\n",
    "\n",
    "import numpy as np # linear algebra\n",
    "import pandas as pd # data processing, CSV file I/O (e.g. pd.read_csv)\n",
    "\n",
    "# Input data files are available in the read-only \"../input/\" directory\n",
    "# For example, running this (by clicking run or pressing Shift+Enter) will list all files under the input directory\n",
    "\n",
    "import os\n",
    "for dirname, _, filenames in os.walk('/kaggle/input'):\n",
    "    for filename in filenames:\n",
    "        print(os.path.join(dirname, filename))\n",
    "\n",
    "# You can write up to 20GB to the current directory (/kaggle/working/) that gets preserved as output when you create a version using \"Save & Run All\" \n",
    "# You can also write temporary files to /kaggle/temp/, but they won't be saved outside of the current session"
   ]
  },
  {
   "cell_type": "code",
   "execution_count": 2,
   "id": "bb60621e",
   "metadata": {
    "execution": {
     "iopub.execute_input": "2024-01-05T00:00:37.869538Z",
     "iopub.status.busy": "2024-01-05T00:00:37.868357Z",
     "iopub.status.idle": "2024-01-05T00:00:39.380616Z",
     "shell.execute_reply": "2024-01-05T00:00:39.378862Z"
    },
    "papermill": {
     "duration": 1.524333,
     "end_time": "2024-01-05T00:00:39.384026",
     "exception": false,
     "start_time": "2024-01-05T00:00:37.859693",
     "status": "completed"
    },
    "tags": []
   },
   "outputs": [],
   "source": [
    "df=pd.read_csv(\"/kaggle/input/data-frozenlava/Customer_cluster.csv\")\n",
    "ids=df.iloc[:,1].values\n",
    "clusters=df.iloc[:,2].values\n",
    "d={ids[i]:clusters[i] for i in range(ids.shape[0])}"
   ]
  },
  {
   "cell_type": "code",
   "execution_count": 3,
   "id": "80ae7b6f",
   "metadata": {
    "execution": {
     "iopub.execute_input": "2024-01-05T00:00:39.399101Z",
     "iopub.status.busy": "2024-01-05T00:00:39.398684Z",
     "iopub.status.idle": "2024-01-05T00:00:40.673205Z",
     "shell.execute_reply": "2024-01-05T00:00:40.671588Z"
    },
    "papermill": {
     "duration": 1.285947,
     "end_time": "2024-01-05T00:00:40.676631",
     "exception": false,
     "start_time": "2024-01-05T00:00:39.390684",
     "status": "completed"
    },
    "tags": []
   },
   "outputs": [],
   "source": [
    "tdf=pd.read_csv(\"/kaggle/input/data-frozenlava/Transaction_details (2).csv\")\n",
    "\n"
   ]
  },
  {
   "cell_type": "code",
   "execution_count": 4,
   "id": "884d28e4",
   "metadata": {
    "execution": {
     "iopub.execute_input": "2024-01-05T00:00:40.692863Z",
     "iopub.status.busy": "2024-01-05T00:00:40.692372Z",
     "iopub.status.idle": "2024-01-05T00:00:40.887677Z",
     "shell.execute_reply": "2024-01-05T00:00:40.886160Z"
    },
    "papermill": {
     "duration": 0.207343,
     "end_time": "2024-01-05T00:00:40.891292",
     "exception": false,
     "start_time": "2024-01-05T00:00:40.683949",
     "status": "completed"
    },
    "tags": []
   },
   "outputs": [],
   "source": [
    "condition_to_remove = (tdf['CustomerID'] =='C3080318' )\n",
    "tdf = tdf[~condition_to_remove]"
   ]
  },
  {
   "cell_type": "code",
   "execution_count": 5,
   "id": "c02ef5bf",
   "metadata": {
    "execution": {
     "iopub.execute_input": "2024-01-05T00:00:40.907441Z",
     "iopub.status.busy": "2024-01-05T00:00:40.906963Z",
     "iopub.status.idle": "2024-01-05T00:00:41.264786Z",
     "shell.execute_reply": "2024-01-05T00:00:41.263028Z"
    },
    "papermill": {
     "duration": 0.369837,
     "end_time": "2024-01-05T00:00:41.268377",
     "exception": false,
     "start_time": "2024-01-05T00:00:40.898540",
     "status": "completed"
    },
    "tags": []
   },
   "outputs": [],
   "source": [
    "tids=tdf.iloc[:,1].values\n",
    "tclusters=[d[i] for i in tids]"
   ]
  },
  {
   "cell_type": "code",
   "execution_count": 6,
   "id": "cf0c11cc",
   "metadata": {
    "execution": {
     "iopub.execute_input": "2024-01-05T00:00:41.286452Z",
     "iopub.status.busy": "2024-01-05T00:00:41.285963Z",
     "iopub.status.idle": "2024-01-05T00:00:44.987357Z",
     "shell.execute_reply": "2024-01-05T00:00:44.986198Z"
    },
    "papermill": {
     "duration": 3.713625,
     "end_time": "2024-01-05T00:00:44.990430",
     "exception": false,
     "start_time": "2024-01-05T00:00:41.276805",
     "status": "completed"
    },
    "tags": []
   },
   "outputs": [],
   "source": [
    "tdf[\"clusters\"]=tclusters"
   ]
  },
  {
   "cell_type": "code",
   "execution_count": 7,
   "id": "d91a3bdf",
   "metadata": {
    "execution": {
     "iopub.execute_input": "2024-01-05T00:00:45.007591Z",
     "iopub.status.busy": "2024-01-05T00:00:45.006343Z",
     "iopub.status.idle": "2024-01-05T00:00:45.076900Z",
     "shell.execute_reply": "2024-01-05T00:00:45.075771Z"
    },
    "papermill": {
     "duration": 0.082193,
     "end_time": "2024-01-05T00:00:45.079869",
     "exception": false,
     "start_time": "2024-01-05T00:00:44.997676",
     "status": "completed"
    },
    "tags": []
   },
   "outputs": [],
   "source": [
    "cluster0data=tdf[(tdf['clusters'] == 0)]\n",
    "cluster1data=tdf[(tdf['clusters'] == 1)]\n",
    "cluster2data=tdf[(tdf['clusters'] == 2)]\n",
    "cluster3data=tdf[(tdf['clusters'] == 3)]"
   ]
  },
  {
   "cell_type": "code",
   "execution_count": 8,
   "id": "c7a7848e",
   "metadata": {
    "execution": {
     "iopub.execute_input": "2024-01-05T00:00:45.095494Z",
     "iopub.status.busy": "2024-01-05T00:00:45.095031Z",
     "iopub.status.idle": "2024-01-05T00:00:45.477738Z",
     "shell.execute_reply": "2024-01-05T00:00:45.476384Z"
    },
    "papermill": {
     "duration": 0.395553,
     "end_time": "2024-01-05T00:00:45.482013",
     "exception": false,
     "start_time": "2024-01-05T00:00:45.086460",
     "status": "completed"
    },
    "tags": []
   },
   "outputs": [
    {
     "name": "stderr",
     "output_type": "stream",
     "text": [
      "/tmp/ipykernel_19/4124901058.py:1: SettingWithCopyWarning: \n",
      "A value is trying to be set on a copy of a slice from a DataFrame.\n",
      "Try using .loc[row_indexer,col_indexer] = value instead\n",
      "\n",
      "See the caveats in the documentation: https://pandas.pydata.org/pandas-docs/stable/user_guide/indexing.html#returning-a-view-versus-a-copy\n",
      "  cluster0data[\"Fraud?\"]=cluster0data.shape[0]*[0]\n",
      "/tmp/ipykernel_19/4124901058.py:2: SettingWithCopyWarning: \n",
      "A value is trying to be set on a copy of a slice from a DataFrame.\n",
      "Try using .loc[row_indexer,col_indexer] = value instead\n",
      "\n",
      "See the caveats in the documentation: https://pandas.pydata.org/pandas-docs/stable/user_guide/indexing.html#returning-a-view-versus-a-copy\n",
      "  cluster1data[\"Fraud?\"]=cluster1data.shape[0]*[0]\n",
      "/tmp/ipykernel_19/4124901058.py:3: SettingWithCopyWarning: \n",
      "A value is trying to be set on a copy of a slice from a DataFrame.\n",
      "Try using .loc[row_indexer,col_indexer] = value instead\n",
      "\n",
      "See the caveats in the documentation: https://pandas.pydata.org/pandas-docs/stable/user_guide/indexing.html#returning-a-view-versus-a-copy\n",
      "  cluster2data[\"Fraud?\"]=cluster2data.shape[0]*[0]\n",
      "/tmp/ipykernel_19/4124901058.py:4: SettingWithCopyWarning: \n",
      "A value is trying to be set on a copy of a slice from a DataFrame.\n",
      "Try using .loc[row_indexer,col_indexer] = value instead\n",
      "\n",
      "See the caveats in the documentation: https://pandas.pydata.org/pandas-docs/stable/user_guide/indexing.html#returning-a-view-versus-a-copy\n",
      "  cluster3data[\"Fraud?\"]=cluster3data.shape[0]*[0]\n"
     ]
    }
   ],
   "source": [
    "cluster0data[\"Fraud?\"]=cluster0data.shape[0]*[0]\n",
    "cluster1data[\"Fraud?\"]=cluster1data.shape[0]*[0]\n",
    "cluster2data[\"Fraud?\"]=cluster2data.shape[0]*[0]\n",
    "cluster3data[\"Fraud?\"]=cluster3data.shape[0]*[0]"
   ]
  },
  {
   "cell_type": "code",
   "execution_count": 9,
   "id": "fae4d569",
   "metadata": {
    "execution": {
     "iopub.execute_input": "2024-01-05T00:00:45.497989Z",
     "iopub.status.busy": "2024-01-05T00:00:45.497556Z",
     "iopub.status.idle": "2024-01-05T00:00:45.554559Z",
     "shell.execute_reply": "2024-01-05T00:00:45.553078Z"
    },
    "papermill": {
     "duration": 0.068634,
     "end_time": "2024-01-05T00:00:45.557818",
     "exception": false,
     "start_time": "2024-01-05T00:00:45.489184",
     "status": "completed"
    },
    "tags": []
   },
   "outputs": [],
   "source": [
    "cluster0data=cluster0data.drop(\"clusters\",axis=1)\n",
    "cluster1data=cluster1data.drop(\"clusters\",axis=1)\n",
    "cluster2data=cluster2data.drop(\"clusters\",axis=1)\n",
    "cluster3data=cluster3data.drop(\"clusters\",axis=1)"
   ]
  },
  {
   "cell_type": "code",
   "execution_count": 10,
   "id": "bd3cf6fc",
   "metadata": {
    "execution": {
     "iopub.execute_input": "2024-01-05T00:00:45.574178Z",
     "iopub.status.busy": "2024-01-05T00:00:45.573773Z",
     "iopub.status.idle": "2024-01-05T00:00:46.905933Z",
     "shell.execute_reply": "2024-01-05T00:00:46.904120Z"
    },
    "papermill": {
     "duration": 1.343875,
     "end_time": "2024-01-05T00:00:46.908951",
     "exception": false,
     "start_time": "2024-01-05T00:00:45.565076",
     "status": "completed"
    },
    "tags": []
   },
   "outputs": [
    {
     "name": "stderr",
     "output_type": "stream",
     "text": [
      "/tmp/ipykernel_19/3787654791.py:6: SettingWithCopyWarning: \n",
      "A value is trying to be set on a copy of a slice from a DataFrame.\n",
      "Try using .loc[row_indexer,col_indexer] = value instead\n",
      "\n",
      "See the caveats in the documentation: https://pandas.pydata.org/pandas-docs/stable/user_guide/indexing.html#returning-a-view-versus-a-copy\n",
      "  noncluster0data[\"Fraud?\"]=noncluster0data.shape[0]*[1]\n",
      "/tmp/ipykernel_19/3787654791.py:7: SettingWithCopyWarning: \n",
      "A value is trying to be set on a copy of a slice from a DataFrame.\n",
      "Try using .loc[row_indexer,col_indexer] = value instead\n",
      "\n",
      "See the caveats in the documentation: https://pandas.pydata.org/pandas-docs/stable/user_guide/indexing.html#returning-a-view-versus-a-copy\n",
      "  noncluster1data[\"Fraud?\"]=noncluster1data.shape[0]*[1]\n",
      "/tmp/ipykernel_19/3787654791.py:8: SettingWithCopyWarning: \n",
      "A value is trying to be set on a copy of a slice from a DataFrame.\n",
      "Try using .loc[row_indexer,col_indexer] = value instead\n",
      "\n",
      "See the caveats in the documentation: https://pandas.pydata.org/pandas-docs/stable/user_guide/indexing.html#returning-a-view-versus-a-copy\n",
      "  noncluster2data[\"Fraud?\"]=noncluster2data.shape[0]*[1]\n",
      "/tmp/ipykernel_19/3787654791.py:9: SettingWithCopyWarning: \n",
      "A value is trying to be set on a copy of a slice from a DataFrame.\n",
      "Try using .loc[row_indexer,col_indexer] = value instead\n",
      "\n",
      "See the caveats in the documentation: https://pandas.pydata.org/pandas-docs/stable/user_guide/indexing.html#returning-a-view-versus-a-copy\n",
      "  noncluster3data[\"Fraud?\"]=noncluster3data.shape[0]*[1]\n"
     ]
    }
   ],
   "source": [
    "noncluster0data=tdf[(tdf['clusters'] != 0)]\n",
    "noncluster1data=tdf[(tdf['clusters'] != 1)]\n",
    "noncluster2data=tdf[(tdf['clusters'] != 2)]\n",
    "noncluster3data=tdf[(tdf['clusters'] != 3)]\n",
    "\n",
    "noncluster0data[\"Fraud?\"]=noncluster0data.shape[0]*[1]\n",
    "noncluster1data[\"Fraud?\"]=noncluster1data.shape[0]*[1]\n",
    "noncluster2data[\"Fraud?\"]=noncluster2data.shape[0]*[1]\n",
    "noncluster3data[\"Fraud?\"]=noncluster3data.shape[0]*[1]"
   ]
  },
  {
   "cell_type": "code",
   "execution_count": 11,
   "id": "79e2ea61",
   "metadata": {
    "execution": {
     "iopub.execute_input": "2024-01-05T00:00:46.925759Z",
     "iopub.status.busy": "2024-01-05T00:00:46.925256Z",
     "iopub.status.idle": "2024-01-05T00:00:47.022401Z",
     "shell.execute_reply": "2024-01-05T00:00:47.020888Z"
    },
    "papermill": {
     "duration": 0.109312,
     "end_time": "2024-01-05T00:00:47.025631",
     "exception": false,
     "start_time": "2024-01-05T00:00:46.916319",
     "status": "completed"
    },
    "tags": []
   },
   "outputs": [],
   "source": [
    "noncluster0data=noncluster0data.drop(\"clusters\",axis=1)\n",
    "noncluster1data=noncluster1data.drop(\"clusters\",axis=1)\n",
    "noncluster2data=noncluster2data.drop(\"clusters\",axis=1)\n",
    "noncluster3data=noncluster3data.drop(\"clusters\",axis=1)"
   ]
  },
  {
   "cell_type": "code",
   "execution_count": 12,
   "id": "936180f9",
   "metadata": {
    "execution": {
     "iopub.execute_input": "2024-01-05T00:00:47.041768Z",
     "iopub.status.busy": "2024-01-05T00:00:47.041308Z",
     "iopub.status.idle": "2024-01-05T00:00:47.068478Z",
     "shell.execute_reply": "2024-01-05T00:00:47.067127Z"
    },
    "papermill": {
     "duration": 0.038887,
     "end_time": "2024-01-05T00:00:47.071477",
     "exception": false,
     "start_time": "2024-01-05T00:00:47.032590",
     "status": "completed"
    },
    "tags": []
   },
   "outputs": [
    {
     "data": {
      "text/html": [
       "<div>\n",
       "<style scoped>\n",
       "    .dataframe tbody tr th:only-of-type {\n",
       "        vertical-align: middle;\n",
       "    }\n",
       "\n",
       "    .dataframe tbody tr th {\n",
       "        vertical-align: top;\n",
       "    }\n",
       "\n",
       "    .dataframe thead th {\n",
       "        text-align: right;\n",
       "    }\n",
       "</style>\n",
       "<table border=\"1\" class=\"dataframe\">\n",
       "  <thead>\n",
       "    <tr style=\"text-align: right;\">\n",
       "      <th></th>\n",
       "      <th>Unnamed: 0</th>\n",
       "      <th>CustomerID</th>\n",
       "      <th>CustAccountBalance</th>\n",
       "      <th>TransactionTime</th>\n",
       "      <th>TransactionAmount (INR)</th>\n",
       "      <th>Fraud?</th>\n",
       "    </tr>\n",
       "  </thead>\n",
       "  <tbody>\n",
       "    <tr>\n",
       "      <th>1</th>\n",
       "      <td>1</td>\n",
       "      <td>C2142763</td>\n",
       "      <td>2270.69</td>\n",
       "      <td>141858</td>\n",
       "      <td>27999.00</td>\n",
       "      <td>1</td>\n",
       "    </tr>\n",
       "    <tr>\n",
       "      <th>5</th>\n",
       "      <td>7</td>\n",
       "      <td>C1220223</td>\n",
       "      <td>95075.54</td>\n",
       "      <td>170537</td>\n",
       "      <td>148.00</td>\n",
       "      <td>1</td>\n",
       "    </tr>\n",
       "    <tr>\n",
       "      <th>7</th>\n",
       "      <td>9</td>\n",
       "      <td>C6638934</td>\n",
       "      <td>4279.22</td>\n",
       "      <td>192446</td>\n",
       "      <td>289.11</td>\n",
       "      <td>1</td>\n",
       "    </tr>\n",
       "    <tr>\n",
       "      <th>8</th>\n",
       "      <td>11</td>\n",
       "      <td>C6939838</td>\n",
       "      <td>14613.46</td>\n",
       "      <td>205108</td>\n",
       "      <td>202.00</td>\n",
       "      <td>1</td>\n",
       "    </tr>\n",
       "    <tr>\n",
       "      <th>9</th>\n",
       "      <td>12</td>\n",
       "      <td>C6339347</td>\n",
       "      <td>32274.78</td>\n",
       "      <td>203834</td>\n",
       "      <td>12300.00</td>\n",
       "      <td>1</td>\n",
       "    </tr>\n",
       "    <tr>\n",
       "      <th>...</th>\n",
       "      <td>...</td>\n",
       "      <td>...</td>\n",
       "      <td>...</td>\n",
       "      <td>...</td>\n",
       "      <td>...</td>\n",
       "      <td>...</td>\n",
       "    </tr>\n",
       "    <tr>\n",
       "      <th>718283</th>\n",
       "      <td>1048560</td>\n",
       "      <td>C5028150</td>\n",
       "      <td>464.87</td>\n",
       "      <td>184632</td>\n",
       "      <td>3000.00</td>\n",
       "      <td>1</td>\n",
       "    </tr>\n",
       "    <tr>\n",
       "      <th>718284</th>\n",
       "      <td>1048561</td>\n",
       "      <td>C1034220</td>\n",
       "      <td>1212.70</td>\n",
       "      <td>184734</td>\n",
       "      <td>1500.00</td>\n",
       "      <td>1</td>\n",
       "    </tr>\n",
       "    <tr>\n",
       "      <th>718285</th>\n",
       "      <td>1048562</td>\n",
       "      <td>C8020229</td>\n",
       "      <td>7635.19</td>\n",
       "      <td>184824</td>\n",
       "      <td>799.00</td>\n",
       "      <td>1</td>\n",
       "    </tr>\n",
       "    <tr>\n",
       "      <th>718286</th>\n",
       "      <td>1048563</td>\n",
       "      <td>C6459278</td>\n",
       "      <td>27311.42</td>\n",
       "      <td>183734</td>\n",
       "      <td>460.00</td>\n",
       "      <td>1</td>\n",
       "    </tr>\n",
       "    <tr>\n",
       "      <th>718287</th>\n",
       "      <td>1048565</td>\n",
       "      <td>C6420483</td>\n",
       "      <td>10117.87</td>\n",
       "      <td>184706</td>\n",
       "      <td>1000.00</td>\n",
       "      <td>1</td>\n",
       "    </tr>\n",
       "  </tbody>\n",
       "</table>\n",
       "<p>533165 rows × 6 columns</p>\n",
       "</div>"
      ],
      "text/plain": [
       "        Unnamed: 0 CustomerID  CustAccountBalance  TransactionTime  \\\n",
       "1                1   C2142763             2270.69           141858   \n",
       "5                7   C1220223            95075.54           170537   \n",
       "7                9   C6638934             4279.22           192446   \n",
       "8               11   C6939838            14613.46           205108   \n",
       "9               12   C6339347            32274.78           203834   \n",
       "...            ...        ...                 ...              ...   \n",
       "718283     1048560   C5028150              464.87           184632   \n",
       "718284     1048561   C1034220             1212.70           184734   \n",
       "718285     1048562   C8020229             7635.19           184824   \n",
       "718286     1048563   C6459278            27311.42           183734   \n",
       "718287     1048565   C6420483            10117.87           184706   \n",
       "\n",
       "        TransactionAmount (INR)  Fraud?  \n",
       "1                      27999.00       1  \n",
       "5                        148.00       1  \n",
       "7                        289.11       1  \n",
       "8                        202.00       1  \n",
       "9                      12300.00       1  \n",
       "...                         ...     ...  \n",
       "718283                  3000.00       1  \n",
       "718284                  1500.00       1  \n",
       "718285                   799.00       1  \n",
       "718286                   460.00       1  \n",
       "718287                  1000.00       1  \n",
       "\n",
       "[533165 rows x 6 columns]"
      ]
     },
     "execution_count": 12,
     "metadata": {},
     "output_type": "execute_result"
    }
   ],
   "source": [
    "noncluster1data"
   ]
  },
  {
   "cell_type": "code",
   "execution_count": 13,
   "id": "77aed781",
   "metadata": {
    "execution": {
     "iopub.execute_input": "2024-01-05T00:00:47.089155Z",
     "iopub.status.busy": "2024-01-05T00:00:47.088263Z",
     "iopub.status.idle": "2024-01-05T00:00:47.269352Z",
     "shell.execute_reply": "2024-01-05T00:00:47.268174Z"
    },
    "papermill": {
     "duration": 0.193339,
     "end_time": "2024-01-05T00:00:47.272319",
     "exception": false,
     "start_time": "2024-01-05T00:00:47.078980",
     "status": "completed"
    },
    "tags": []
   },
   "outputs": [],
   "source": [
    "c0data=pd.concat([cluster0data, noncluster0data], ignore_index=True)\n",
    "c1data=pd.concat([cluster1data, noncluster1data], ignore_index=True)\n",
    "c2data=pd.concat([cluster2data, noncluster2data], ignore_index=True)\n",
    "c3data=pd.concat([cluster3data, noncluster3data], ignore_index=True)"
   ]
  },
  {
   "cell_type": "code",
   "execution_count": 14,
   "id": "222d7b81",
   "metadata": {
    "execution": {
     "iopub.execute_input": "2024-01-05T00:00:47.290081Z",
     "iopub.status.busy": "2024-01-05T00:00:47.288870Z",
     "iopub.status.idle": "2024-01-05T00:00:47.297073Z",
     "shell.execute_reply": "2024-01-05T00:00:47.295655Z"
    },
    "papermill": {
     "duration": 0.020645,
     "end_time": "2024-01-05T00:00:47.300457",
     "exception": false,
     "start_time": "2024-01-05T00:00:47.279812",
     "status": "completed"
    },
    "tags": []
   },
   "outputs": [],
   "source": [
    "def selectEqual(df):\n",
    "    count_label_0 = df['Fraud?'].value_counts()[0]\n",
    "    count_label_1 = df['Fraud?'].value_counts()[1]\n",
    "    minn=min(count_label_0,count_label_1)\n",
    "    selected_rows_label_0 = df[df['Fraud?'] == 0].sample(n=minn, random_state=42)\n",
    "    selected_rows_label_1 = df[df['Fraud?'] == 1].sample(n=minn, random_state=42)\n",
    "    result_df = pd.concat([selected_rows_label_0, selected_rows_label_1])\n",
    "    return result_df"
   ]
  },
  {
   "cell_type": "code",
   "execution_count": 15,
   "id": "9ff22a1a",
   "metadata": {
    "execution": {
     "iopub.execute_input": "2024-01-05T00:00:47.317299Z",
     "iopub.status.busy": "2024-01-05T00:00:47.316847Z",
     "iopub.status.idle": "2024-01-05T00:00:48.200400Z",
     "shell.execute_reply": "2024-01-05T00:00:48.199054Z"
    },
    "papermill": {
     "duration": 0.895511,
     "end_time": "2024-01-05T00:00:48.203447",
     "exception": false,
     "start_time": "2024-01-05T00:00:47.307936",
     "status": "completed"
    },
    "tags": []
   },
   "outputs": [],
   "source": [
    "c0data=selectEqual(c0data).drop([\"Unnamed: 0\",\"CustomerID\"],axis=1)\n",
    "c1data=selectEqual(c1data).drop([\"Unnamed: 0\",\"CustomerID\"],axis=1)\n",
    "c2data=selectEqual(c2data).drop([\"Unnamed: 0\",\"CustomerID\"],axis=1)\n",
    "c3data=selectEqual(c3data).drop([\"Unnamed: 0\",\"CustomerID\"],axis=1)"
   ]
  },
  {
   "cell_type": "code",
   "execution_count": 16,
   "id": "c9c8e415",
   "metadata": {
    "execution": {
     "iopub.execute_input": "2024-01-05T00:00:48.220147Z",
     "iopub.status.busy": "2024-01-05T00:00:48.219696Z",
     "iopub.status.idle": "2024-01-05T00:00:54.212567Z",
     "shell.execute_reply": "2024-01-05T00:00:54.211241Z"
    },
    "papermill": {
     "duration": 6.00509,
     "end_time": "2024-01-05T00:00:54.215907",
     "exception": false,
     "start_time": "2024-01-05T00:00:48.210817",
     "status": "completed"
    },
    "tags": []
   },
   "outputs": [],
   "source": [
    "c0data.to_csv(\"Cluster0data.csv\")\n",
    "c1data.to_csv(\"Cluster1data.csv\")\n",
    "c2data.to_csv(\"Cluster2data.csv\")\n",
    "c3data.to_csv(\"Cluster3data.csv\")"
   ]
  }
 ],
 "metadata": {
  "kaggle": {
   "accelerator": "none",
   "dataSources": [
    {
     "datasetId": 4261526,
     "sourceId": 7340216,
     "sourceType": "datasetVersion"
    }
   ],
   "dockerImageVersionId": 30626,
   "isGpuEnabled": false,
   "isInternetEnabled": true,
   "language": "python",
   "sourceType": "notebook"
  },
  "kernelspec": {
   "display_name": "Python 3",
   "language": "python",
   "name": "python3"
  },
  "language_info": {
   "codemirror_mode": {
    "name": "ipython",
    "version": 3
   },
   "file_extension": ".py",
   "mimetype": "text/x-python",
   "name": "python",
   "nbconvert_exporter": "python",
   "pygments_lexer": "ipython3",
   "version": "3.10.12"
  },
  "papermill": {
   "default_parameters": {},
   "duration": 21.574559,
   "end_time": "2024-01-05T00:00:54.948034",
   "environment_variables": {},
   "exception": null,
   "input_path": "__notebook__.ipynb",
   "output_path": "__notebook__.ipynb",
   "parameters": {},
   "start_time": "2024-01-05T00:00:33.373475",
   "version": "2.4.0"
  }
 },
 "nbformat": 4,
 "nbformat_minor": 5
}
