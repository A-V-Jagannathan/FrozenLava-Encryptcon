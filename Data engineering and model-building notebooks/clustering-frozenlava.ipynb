{
 "cells": [
  {
   "cell_type": "code",
   "execution_count": 1,
   "id": "ab35ea0d",
   "metadata": {
    "_cell_guid": "b1076dfc-b9ad-4769-8c92-a6c4dae69d19",
    "_uuid": "8f2839f25d086af736a60e9eeb907d3b93b6e0e5",
    "execution": {
     "iopub.execute_input": "2024-01-04T21:27:06.962342Z",
     "iopub.status.busy": "2024-01-04T21:27:06.961846Z",
     "iopub.status.idle": "2024-01-04T21:27:07.528042Z",
     "shell.execute_reply": "2024-01-04T21:27:07.526040Z"
    },
    "papermill": {
     "duration": 0.576611,
     "end_time": "2024-01-04T21:27:07.531211",
     "exception": false,
     "start_time": "2024-01-04T21:27:06.954600",
     "status": "completed"
    },
    "tags": []
   },
   "outputs": [
    {
     "name": "stdout",
     "output_type": "stream",
     "text": [
      "/kaggle/input/data-frozenlava/Transaction_details.csv\n",
      "/kaggle/input/data-frozenlava/Customers_data.csv\n"
     ]
    }
   ],
   "source": [
    "# This Python 3 environment comes with many helpful analytics libraries installed\n",
    "# It is defined by the kaggle/python Docker image: https://github.com/kaggle/docker-python\n",
    "# For example, here's several helpful packages to load\n",
    "\n",
    "import numpy as np # linear algebra\n",
    "import pandas as pd # data processing, CSV file I/O (e.g. pd.read_csv)\n",
    "\n",
    "# Input data files are available in the read-only \"../input/\" directory\n",
    "# For example, running this (by clicking run or pressing Shift+Enter) will list all files under the input directory\n",
    "\n",
    "import os\n",
    "for dirname, _, filenames in os.walk('/kaggle/input'):\n",
    "    for filename in filenames:\n",
    "        print(os.path.join(dirname, filename))\n",
    "\n",
    "# You can write up to 20GB to the current directory (/kaggle/working/) that gets preserved as output when you create a version using \"Save & Run All\" \n",
    "# You can also write temporary files to /kaggle/temp/, but they won't be saved outside of the current session"
   ]
  },
  {
   "cell_type": "code",
   "execution_count": 2,
   "id": "827acc6c",
   "metadata": {
    "execution": {
     "iopub.execute_input": "2024-01-04T21:27:07.544822Z",
     "iopub.status.busy": "2024-01-04T21:27:07.543520Z",
     "iopub.status.idle": "2024-01-04T21:27:08.615369Z",
     "shell.execute_reply": "2024-01-04T21:27:08.613755Z"
    },
    "papermill": {
     "duration": 1.081838,
     "end_time": "2024-01-04T21:27:08.618609",
     "exception": false,
     "start_time": "2024-01-04T21:27:07.536771",
     "status": "completed"
    },
    "tags": []
   },
   "outputs": [],
   "source": [
    "df=pd.read_csv(\"/kaggle/input/data-frozenlava/Customers_data.csv\")"
   ]
  },
  {
   "cell_type": "code",
   "execution_count": 3,
   "id": "8a8a3177",
   "metadata": {
    "execution": {
     "iopub.execute_input": "2024-01-04T21:27:08.630660Z",
     "iopub.status.busy": "2024-01-04T21:27:08.630243Z",
     "iopub.status.idle": "2024-01-04T21:27:08.675755Z",
     "shell.execute_reply": "2024-01-04T21:27:08.674543Z"
    },
    "papermill": {
     "duration": 0.055643,
     "end_time": "2024-01-04T21:27:08.679413",
     "exception": false,
     "start_time": "2024-01-04T21:27:08.623770",
     "status": "completed"
    },
    "tags": []
   },
   "outputs": [],
   "source": [
    "df=df.drop(\"Unnamed: 0\",axis=1)"
   ]
  },
  {
   "cell_type": "code",
   "execution_count": 4,
   "id": "0a2f7854",
   "metadata": {
    "execution": {
     "iopub.execute_input": "2024-01-04T21:27:08.691707Z",
     "iopub.status.busy": "2024-01-04T21:27:08.691293Z",
     "iopub.status.idle": "2024-01-04T21:27:08.712491Z",
     "shell.execute_reply": "2024-01-04T21:27:08.711128Z"
    },
    "papermill": {
     "duration": 0.031318,
     "end_time": "2024-01-04T21:27:08.715991",
     "exception": false,
     "start_time": "2024-01-04T21:27:08.684673",
     "status": "completed"
    },
    "tags": []
   },
   "outputs": [
    {
     "data": {
      "text/html": [
       "<div>\n",
       "<style scoped>\n",
       "    .dataframe tbody tr th:only-of-type {\n",
       "        vertical-align: middle;\n",
       "    }\n",
       "\n",
       "    .dataframe tbody tr th {\n",
       "        vertical-align: top;\n",
       "    }\n",
       "\n",
       "    .dataframe thead th {\n",
       "        text-align: right;\n",
       "    }\n",
       "</style>\n",
       "<table border=\"1\" class=\"dataframe\">\n",
       "  <thead>\n",
       "    <tr style=\"text-align: right;\">\n",
       "      <th></th>\n",
       "      <th>ID</th>\n",
       "      <th>Age</th>\n",
       "      <th>Gender</th>\n",
       "    </tr>\n",
       "  </thead>\n",
       "  <tbody>\n",
       "    <tr>\n",
       "      <th>0</th>\n",
       "      <td>C5841053</td>\n",
       "      <td>22</td>\n",
       "      <td>F</td>\n",
       "    </tr>\n",
       "    <tr>\n",
       "      <th>1</th>\n",
       "      <td>C2142763</td>\n",
       "      <td>59</td>\n",
       "      <td>M</td>\n",
       "    </tr>\n",
       "    <tr>\n",
       "      <th>2</th>\n",
       "      <td>C4417068</td>\n",
       "      <td>20</td>\n",
       "      <td>F</td>\n",
       "    </tr>\n",
       "    <tr>\n",
       "      <th>3</th>\n",
       "      <td>C9031234</td>\n",
       "      <td>28</td>\n",
       "      <td>F</td>\n",
       "    </tr>\n",
       "    <tr>\n",
       "      <th>4</th>\n",
       "      <td>C1536588</td>\n",
       "      <td>44</td>\n",
       "      <td>F</td>\n",
       "    </tr>\n",
       "    <tr>\n",
       "      <th>...</th>\n",
       "      <td>...</td>\n",
       "      <td>...</td>\n",
       "      <td>...</td>\n",
       "    </tr>\n",
       "    <tr>\n",
       "      <th>714261</th>\n",
       "      <td>C5028150</td>\n",
       "      <td>36</td>\n",
       "      <td>M</td>\n",
       "    </tr>\n",
       "    <tr>\n",
       "      <th>714262</th>\n",
       "      <td>C1034220</td>\n",
       "      <td>24</td>\n",
       "      <td>M</td>\n",
       "    </tr>\n",
       "    <tr>\n",
       "      <th>714263</th>\n",
       "      <td>C8020229</td>\n",
       "      <td>26</td>\n",
       "      <td>M</td>\n",
       "    </tr>\n",
       "    <tr>\n",
       "      <th>714264</th>\n",
       "      <td>C6459278</td>\n",
       "      <td>24</td>\n",
       "      <td>M</td>\n",
       "    </tr>\n",
       "    <tr>\n",
       "      <th>714265</th>\n",
       "      <td>C6420483</td>\n",
       "      <td>38</td>\n",
       "      <td>M</td>\n",
       "    </tr>\n",
       "  </tbody>\n",
       "</table>\n",
       "<p>714266 rows × 3 columns</p>\n",
       "</div>"
      ],
      "text/plain": [
       "              ID  Age Gender\n",
       "0       C5841053   22      F\n",
       "1       C2142763   59      M\n",
       "2       C4417068   20      F\n",
       "3       C9031234   28      F\n",
       "4       C1536588   44      F\n",
       "...          ...  ...    ...\n",
       "714261  C5028150   36      M\n",
       "714262  C1034220   24      M\n",
       "714263  C8020229   26      M\n",
       "714264  C6459278   24      M\n",
       "714265  C6420483   38      M\n",
       "\n",
       "[714266 rows x 3 columns]"
      ]
     },
     "execution_count": 4,
     "metadata": {},
     "output_type": "execute_result"
    }
   ],
   "source": [
    "df"
   ]
  },
  {
   "cell_type": "code",
   "execution_count": 5,
   "id": "e79c559f",
   "metadata": {
    "execution": {
     "iopub.execute_input": "2024-01-04T21:27:08.729061Z",
     "iopub.status.busy": "2024-01-04T21:27:08.728635Z",
     "iopub.status.idle": "2024-01-04T21:27:10.134025Z",
     "shell.execute_reply": "2024-01-04T21:27:10.133114Z"
    },
    "papermill": {
     "duration": 1.415679,
     "end_time": "2024-01-04T21:27:10.137218",
     "exception": false,
     "start_time": "2024-01-04T21:27:08.721539",
     "status": "completed"
    },
    "tags": []
   },
   "outputs": [],
   "source": [
    "from sklearn.preprocessing import LabelEncoder\n",
    "label_encoder = LabelEncoder()\n",
    "df['Gender'] = label_encoder.fit_transform(df['Gender'])\n",
    "#F=0, M=1"
   ]
  },
  {
   "cell_type": "code",
   "execution_count": 6,
   "id": "9453241e",
   "metadata": {
    "execution": {
     "iopub.execute_input": "2024-01-04T21:27:10.151928Z",
     "iopub.status.busy": "2024-01-04T21:27:10.150468Z",
     "iopub.status.idle": "2024-01-04T21:27:10.165471Z",
     "shell.execute_reply": "2024-01-04T21:27:10.163914Z"
    },
    "papermill": {
     "duration": 0.025347,
     "end_time": "2024-01-04T21:27:10.168613",
     "exception": false,
     "start_time": "2024-01-04T21:27:10.143266",
     "status": "completed"
    },
    "tags": []
   },
   "outputs": [
    {
     "data": {
      "text/html": [
       "<div>\n",
       "<style scoped>\n",
       "    .dataframe tbody tr th:only-of-type {\n",
       "        vertical-align: middle;\n",
       "    }\n",
       "\n",
       "    .dataframe tbody tr th {\n",
       "        vertical-align: top;\n",
       "    }\n",
       "\n",
       "    .dataframe thead th {\n",
       "        text-align: right;\n",
       "    }\n",
       "</style>\n",
       "<table border=\"1\" class=\"dataframe\">\n",
       "  <thead>\n",
       "    <tr style=\"text-align: right;\">\n",
       "      <th></th>\n",
       "      <th>ID</th>\n",
       "      <th>Age</th>\n",
       "      <th>Gender</th>\n",
       "    </tr>\n",
       "  </thead>\n",
       "  <tbody>\n",
       "    <tr>\n",
       "      <th>0</th>\n",
       "      <td>C5841053</td>\n",
       "      <td>22</td>\n",
       "      <td>0</td>\n",
       "    </tr>\n",
       "    <tr>\n",
       "      <th>1</th>\n",
       "      <td>C2142763</td>\n",
       "      <td>59</td>\n",
       "      <td>1</td>\n",
       "    </tr>\n",
       "    <tr>\n",
       "      <th>2</th>\n",
       "      <td>C4417068</td>\n",
       "      <td>20</td>\n",
       "      <td>0</td>\n",
       "    </tr>\n",
       "    <tr>\n",
       "      <th>3</th>\n",
       "      <td>C9031234</td>\n",
       "      <td>28</td>\n",
       "      <td>0</td>\n",
       "    </tr>\n",
       "    <tr>\n",
       "      <th>4</th>\n",
       "      <td>C1536588</td>\n",
       "      <td>44</td>\n",
       "      <td>0</td>\n",
       "    </tr>\n",
       "    <tr>\n",
       "      <th>...</th>\n",
       "      <td>...</td>\n",
       "      <td>...</td>\n",
       "      <td>...</td>\n",
       "    </tr>\n",
       "    <tr>\n",
       "      <th>714261</th>\n",
       "      <td>C5028150</td>\n",
       "      <td>36</td>\n",
       "      <td>1</td>\n",
       "    </tr>\n",
       "    <tr>\n",
       "      <th>714262</th>\n",
       "      <td>C1034220</td>\n",
       "      <td>24</td>\n",
       "      <td>1</td>\n",
       "    </tr>\n",
       "    <tr>\n",
       "      <th>714263</th>\n",
       "      <td>C8020229</td>\n",
       "      <td>26</td>\n",
       "      <td>1</td>\n",
       "    </tr>\n",
       "    <tr>\n",
       "      <th>714264</th>\n",
       "      <td>C6459278</td>\n",
       "      <td>24</td>\n",
       "      <td>1</td>\n",
       "    </tr>\n",
       "    <tr>\n",
       "      <th>714265</th>\n",
       "      <td>C6420483</td>\n",
       "      <td>38</td>\n",
       "      <td>1</td>\n",
       "    </tr>\n",
       "  </tbody>\n",
       "</table>\n",
       "<p>714266 rows × 3 columns</p>\n",
       "</div>"
      ],
      "text/plain": [
       "              ID  Age  Gender\n",
       "0       C5841053   22       0\n",
       "1       C2142763   59       1\n",
       "2       C4417068   20       0\n",
       "3       C9031234   28       0\n",
       "4       C1536588   44       0\n",
       "...          ...  ...     ...\n",
       "714261  C5028150   36       1\n",
       "714262  C1034220   24       1\n",
       "714263  C8020229   26       1\n",
       "714264  C6459278   24       1\n",
       "714265  C6420483   38       1\n",
       "\n",
       "[714266 rows x 3 columns]"
      ]
     },
     "execution_count": 6,
     "metadata": {},
     "output_type": "execute_result"
    }
   ],
   "source": [
    "df"
   ]
  },
  {
   "cell_type": "code",
   "execution_count": 7,
   "id": "2fb58e94",
   "metadata": {
    "execution": {
     "iopub.execute_input": "2024-01-04T21:27:10.182852Z",
     "iopub.status.busy": "2024-01-04T21:27:10.182365Z",
     "iopub.status.idle": "2024-01-04T21:28:16.144484Z",
     "shell.execute_reply": "2024-01-04T21:28:16.142948Z"
    },
    "papermill": {
     "duration": 65.980458,
     "end_time": "2024-01-04T21:28:16.155059",
     "exception": false,
     "start_time": "2024-01-04T21:27:10.174601",
     "status": "completed"
    },
    "tags": []
   },
   "outputs": [
    {
     "name": "stderr",
     "output_type": "stream",
     "text": [
      "/opt/conda/lib/python3.10/site-packages/sklearn/cluster/_kmeans.py:870: FutureWarning: The default value of `n_init` will change from 10 to 'auto' in 1.4. Set the value of `n_init` explicitly to suppress the warning\n",
      "  warnings.warn(\n",
      "/opt/conda/lib/python3.10/site-packages/sklearn/cluster/_kmeans.py:870: FutureWarning: The default value of `n_init` will change from 10 to 'auto' in 1.4. Set the value of `n_init` explicitly to suppress the warning\n",
      "  warnings.warn(\n",
      "/opt/conda/lib/python3.10/site-packages/sklearn/cluster/_kmeans.py:870: FutureWarning: The default value of `n_init` will change from 10 to 'auto' in 1.4. Set the value of `n_init` explicitly to suppress the warning\n",
      "  warnings.warn(\n",
      "/opt/conda/lib/python3.10/site-packages/sklearn/cluster/_kmeans.py:870: FutureWarning: The default value of `n_init` will change from 10 to 'auto' in 1.4. Set the value of `n_init` explicitly to suppress the warning\n",
      "  warnings.warn(\n",
      "/opt/conda/lib/python3.10/site-packages/sklearn/cluster/_kmeans.py:870: FutureWarning: The default value of `n_init` will change from 10 to 'auto' in 1.4. Set the value of `n_init` explicitly to suppress the warning\n",
      "  warnings.warn(\n",
      "/opt/conda/lib/python3.10/site-packages/sklearn/cluster/_kmeans.py:870: FutureWarning: The default value of `n_init` will change from 10 to 'auto' in 1.4. Set the value of `n_init` explicitly to suppress the warning\n",
      "  warnings.warn(\n",
      "/opt/conda/lib/python3.10/site-packages/sklearn/cluster/_kmeans.py:870: FutureWarning: The default value of `n_init` will change from 10 to 'auto' in 1.4. Set the value of `n_init` explicitly to suppress the warning\n",
      "  warnings.warn(\n",
      "/opt/conda/lib/python3.10/site-packages/sklearn/cluster/_kmeans.py:870: FutureWarning: The default value of `n_init` will change from 10 to 'auto' in 1.4. Set the value of `n_init` explicitly to suppress the warning\n",
      "  warnings.warn(\n",
      "/opt/conda/lib/python3.10/site-packages/sklearn/cluster/_kmeans.py:870: FutureWarning: The default value of `n_init` will change from 10 to 'auto' in 1.4. Set the value of `n_init` explicitly to suppress the warning\n",
      "  warnings.warn(\n",
      "/opt/conda/lib/python3.10/site-packages/sklearn/cluster/_kmeans.py:870: FutureWarning: The default value of `n_init` will change from 10 to 'auto' in 1.4. Set the value of `n_init` explicitly to suppress the warning\n",
      "  warnings.warn(\n",
      "/opt/conda/lib/python3.10/site-packages/sklearn/cluster/_kmeans.py:870: FutureWarning: The default value of `n_init` will change from 10 to 'auto' in 1.4. Set the value of `n_init` explicitly to suppress the warning\n",
      "  warnings.warn(\n",
      "/opt/conda/lib/python3.10/site-packages/sklearn/cluster/_kmeans.py:870: FutureWarning: The default value of `n_init` will change from 10 to 'auto' in 1.4. Set the value of `n_init` explicitly to suppress the warning\n",
      "  warnings.warn(\n",
      "/opt/conda/lib/python3.10/site-packages/sklearn/cluster/_kmeans.py:870: FutureWarning: The default value of `n_init` will change from 10 to 'auto' in 1.4. Set the value of `n_init` explicitly to suppress the warning\n",
      "  warnings.warn(\n",
      "/opt/conda/lib/python3.10/site-packages/sklearn/cluster/_kmeans.py:870: FutureWarning: The default value of `n_init` will change from 10 to 'auto' in 1.4. Set the value of `n_init` explicitly to suppress the warning\n",
      "  warnings.warn(\n"
     ]
    },
    {
     "data": {
      "image/png": "[encoded data removed]",
      "text/plain": [
       "<Figure size 640x480 with 1 Axes>"
      ]
     },
     "metadata": {},
     "output_type": "display_data"
    }
   ],
   "source": [
    "import pandas as pd\n",
    "import matplotlib.pyplot as plt\n",
    "from sklearn.cluster import KMeans\n",
    "from sklearn import datasets\n",
    "\n",
    "k_values = range(1, 15)\n",
    "\n",
    "inertia_values = []\n",
    "for k in k_values:\n",
    "    kmeans = KMeans(n_clusters=k, random_state=42)\n",
    "    kmeans.fit(df[['Age', 'Gender']])\n",
    "    inertia_values.append(kmeans.inertia_)\n",
    "\n",
    "plt.plot(k_values, inertia_values, marker='o')\n",
    "plt.title('Elbow Method for Optimal K')\n",
    "plt.xlabel('Number of Clusters (k)')\n",
    "plt.ylabel('Inertia')\n",
    "plt.show()\n"
   ]
  },
  {
   "cell_type": "code",
   "execution_count": 8,
   "id": "5886dd17",
   "metadata": {
    "execution": {
     "iopub.execute_input": "2024-01-04T21:28:16.172985Z",
     "iopub.status.busy": "2024-01-04T21:28:16.172519Z",
     "iopub.status.idle": "2024-01-04T21:28:18.907714Z",
     "shell.execute_reply": "2024-01-04T21:28:18.906373Z"
    },
    "papermill": {
     "duration": 2.748722,
     "end_time": "2024-01-04T21:28:18.911567",
     "exception": false,
     "start_time": "2024-01-04T21:28:16.162845",
     "status": "completed"
    },
    "tags": []
   },
   "outputs": [
    {
     "name": "stderr",
     "output_type": "stream",
     "text": [
      "/opt/conda/lib/python3.10/site-packages/sklearn/cluster/_kmeans.py:870: FutureWarning: The default value of `n_init` will change from 10 to 'auto' in 1.4. Set the value of `n_init` explicitly to suppress the warning\n",
      "  warnings.warn(\n"
     ]
    }
   ],
   "source": [
    "import pandas as pd\n",
    "from sklearn.cluster import KMeans\n",
    "\n",
    "k = 4\n",
    "kmeans = KMeans(n_clusters=k, random_state=42)\n",
    "df['cluster'] = kmeans.fit_predict(df[['Age', 'Gender']])"
   ]
  },
  {
   "cell_type": "code",
   "execution_count": 9,
   "id": "5e7c3ded",
   "metadata": {
    "execution": {
     "iopub.execute_input": "2024-01-04T21:28:18.929724Z",
     "iopub.status.busy": "2024-01-04T21:28:18.929236Z",
     "iopub.status.idle": "2024-01-04T21:28:18.977034Z",
     "shell.execute_reply": "2024-01-04T21:28:18.975562Z"
    },
    "papermill": {
     "duration": 0.06082,
     "end_time": "2024-01-04T21:28:18.980179",
     "exception": false,
     "start_time": "2024-01-04T21:28:18.919359",
     "status": "completed"
    },
    "tags": []
   },
   "outputs": [],
   "source": [
    "df=df.drop(\"Age\",axis=1)\n",
    "df=df.drop(\"Gender\",axis=1)"
   ]
  },
  {
   "cell_type": "code",
   "execution_count": 10,
   "id": "c1ce48d0",
   "metadata": {
    "execution": {
     "iopub.execute_input": "2024-01-04T21:28:18.997408Z",
     "iopub.status.busy": "2024-01-04T21:28:18.996960Z",
     "iopub.status.idle": "2024-01-04T21:28:19.012808Z",
     "shell.execute_reply": "2024-01-04T21:28:19.011378Z"
    },
    "papermill": {
     "duration": 0.027666,
     "end_time": "2024-01-04T21:28:19.015562",
     "exception": false,
     "start_time": "2024-01-04T21:28:18.987896",
     "status": "completed"
    },
    "tags": []
   },
   "outputs": [
    {
     "data": {
      "text/html": [
       "<div>\n",
       "<style scoped>\n",
       "    .dataframe tbody tr th:only-of-type {\n",
       "        vertical-align: middle;\n",
       "    }\n",
       "\n",
       "    .dataframe tbody tr th {\n",
       "        vertical-align: top;\n",
       "    }\n",
       "\n",
       "    .dataframe thead th {\n",
       "        text-align: right;\n",
       "    }\n",
       "</style>\n",
       "<table border=\"1\" class=\"dataframe\">\n",
       "  <thead>\n",
       "    <tr style=\"text-align: right;\">\n",
       "      <th></th>\n",
       "      <th>ID</th>\n",
       "      <th>cluster</th>\n",
       "    </tr>\n",
       "  </thead>\n",
       "  <tbody>\n",
       "    <tr>\n",
       "      <th>0</th>\n",
       "      <td>C5841053</td>\n",
       "      <td>1</td>\n",
       "    </tr>\n",
       "    <tr>\n",
       "      <th>1</th>\n",
       "      <td>C2142763</td>\n",
       "      <td>2</td>\n",
       "    </tr>\n",
       "    <tr>\n",
       "      <th>2</th>\n",
       "      <td>C4417068</td>\n",
       "      <td>1</td>\n",
       "    </tr>\n",
       "    <tr>\n",
       "      <th>3</th>\n",
       "      <td>C9031234</td>\n",
       "      <td>1</td>\n",
       "    </tr>\n",
       "    <tr>\n",
       "      <th>4</th>\n",
       "      <td>C1536588</td>\n",
       "      <td>3</td>\n",
       "    </tr>\n",
       "    <tr>\n",
       "      <th>...</th>\n",
       "      <td>...</td>\n",
       "      <td>...</td>\n",
       "    </tr>\n",
       "    <tr>\n",
       "      <th>714261</th>\n",
       "      <td>C5028150</td>\n",
       "      <td>0</td>\n",
       "    </tr>\n",
       "    <tr>\n",
       "      <th>714262</th>\n",
       "      <td>C1034220</td>\n",
       "      <td>1</td>\n",
       "    </tr>\n",
       "    <tr>\n",
       "      <th>714263</th>\n",
       "      <td>C8020229</td>\n",
       "      <td>1</td>\n",
       "    </tr>\n",
       "    <tr>\n",
       "      <th>714264</th>\n",
       "      <td>C6459278</td>\n",
       "      <td>1</td>\n",
       "    </tr>\n",
       "    <tr>\n",
       "      <th>714265</th>\n",
       "      <td>C6420483</td>\n",
       "      <td>3</td>\n",
       "    </tr>\n",
       "  </tbody>\n",
       "</table>\n",
       "<p>714266 rows × 2 columns</p>\n",
       "</div>"
      ],
      "text/plain": [
       "              ID  cluster\n",
       "0       C5841053        1\n",
       "1       C2142763        2\n",
       "2       C4417068        1\n",
       "3       C9031234        1\n",
       "4       C1536588        3\n",
       "...          ...      ...\n",
       "714261  C5028150        0\n",
       "714262  C1034220        1\n",
       "714263  C8020229        1\n",
       "714264  C6459278        1\n",
       "714265  C6420483        3\n",
       "\n",
       "[714266 rows x 2 columns]"
      ]
     },
     "execution_count": 10,
     "metadata": {},
     "output_type": "execute_result"
    }
   ],
   "source": [
    "df"
   ]
  },
  {
   "cell_type": "code",
   "execution_count": 11,
   "id": "55008a72",
   "metadata": {
    "execution": {
     "iopub.execute_input": "2024-01-04T21:28:19.033706Z",
     "iopub.status.busy": "2024-01-04T21:28:19.033283Z",
     "iopub.status.idle": "2024-01-04T21:28:21.303089Z",
     "shell.execute_reply": "2024-01-04T21:28:21.301643Z"
    },
    "papermill": {
     "duration": 2.282817,
     "end_time": "2024-01-04T21:28:21.306299",
     "exception": false,
     "start_time": "2024-01-04T21:28:19.023482",
     "status": "completed"
    },
    "tags": []
   },
   "outputs": [],
   "source": [
    "df.to_csv(\"Customer_cluster.csv\")"
   ]
  }
 ],
 "metadata": {
  "kaggle": {
   "accelerator": "none",
   "dataSources": [
    {
     "datasetId": 4261526,
     "sourceId": 7339917,
     "sourceType": "datasetVersion"
    }
   ],
   "dockerImageVersionId": 30626,
   "isGpuEnabled": false,
   "isInternetEnabled": true,
   "language": "python",
   "sourceType": "notebook"
  },
  "kernelspec": {
   "display_name": "Python 3",
   "language": "python",
   "name": "python3"
  },
  "language_info": {
   "codemirror_mode": {
    "name": "ipython",
    "version": 3
   },
   "file_extension": ".py",
   "mimetype": "text/x-python",
   "name": "python",
   "nbconvert_exporter": "python",
   "pygments_lexer": "ipython3",
   "version": "3.10.12"
  },
  "papermill": {
   "default_parameters": {},
   "duration": 78.805602,
   "end_time": "2024-01-04T21:28:22.040727",
   "environment_variables": {},
   "exception": null,
   "input_path": "__notebook__.ipynb",
   "output_path": "__notebook__.ipynb",
   "parameters": {},
   "start_time": "2024-01-04T21:27:03.235125",
   "version": "2.4.0"
  }
 },
 "nbformat": 4,
 "nbformat_minor": 5
}
