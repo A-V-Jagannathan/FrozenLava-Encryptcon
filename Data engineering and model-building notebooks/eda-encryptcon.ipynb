{
 "cells": [
  {
   "cell_type": "code",
   "execution_count": 1,
   "id": "e40f6d7c",
   "metadata": {
    "_cell_guid": "b1076dfc-b9ad-4769-8c92-a6c4dae69d19",
    "_uuid": "8f2839f25d086af736a60e9eeb907d3b93b6e0e5",
    "execution": {
     "iopub.execute_input": "2024-01-05T09:26:25.126973Z",
     "iopub.status.busy": "2024-01-05T09:26:25.126467Z",
     "iopub.status.idle": "2024-01-05T09:26:25.651396Z",
     "shell.execute_reply": "2024-01-05T09:26:25.650096Z"
    },
    "papermill": {
     "duration": 0.537185,
     "end_time": "2024-01-05T09:26:25.654473",
     "exception": false,
     "start_time": "2024-01-05T09:26:25.117288",
     "status": "completed"
    },
    "tags": []
   },
   "outputs": [
    {
     "name": "stdout",
     "output_type": "stream",
     "text": [
      "/kaggle/input/bank-customer-segmentation/bank_transactions.csv\n",
      "/kaggle/input/data-frozenlava/label_encoder.pkl\n",
      "/kaggle/input/data-frozenlava/Cluster0data.csv\n",
      "/kaggle/input/data-frozenlava/Cluster2data.csv\n",
      "/kaggle/input/data-frozenlava/Transaction_details (2).csv\n",
      "/kaggle/input/data-frozenlava/Customers_data (3).csv\n",
      "/kaggle/input/data-frozenlava/Cluster1data.csv\n",
      "/kaggle/input/data-frozenlava/Cluster3data.csv\n",
      "/kaggle/input/data-frozenlava/knn_model.joblib\n",
      "/kaggle/input/data-frozenlava/Customer_cluster.csv\n",
      "/kaggle/input/data-frozenlava/standard_scaler.pkl\n"
     ]
    }
   ],
   "source": [
    "# This Python 3 environment comes with many helpful analytics libraries installed\n",
    "# It is defined by the kaggle/python Docker image: https://github.com/kaggle/docker-python\n",
    "# For example, here's several helpful packages to load\n",
    "\n",
    "import numpy as np # linear algebra\n",
    "import pandas as pd # data processing, CSV file I/O (e.g. pd.read_csv)\n",
    "import matplotlib.pyplot as plt\n",
    "# Input data files are available in the read-only \"../input/\" directory\n",
    "# For example, running this (by clicking run or pressing Shift+Enter) will list all files under the input directory\n",
    "\n",
    "import os\n",
    "for dirname, _, filenames in os.walk('/kaggle/input'):\n",
    "    for filename in filenames:\n",
    "        print(os.path.join(dirname, filename))\n",
    "\n",
    "# You can write up to 20GB to the current directory (/kaggle/working/) that gets preserved as output when you create a version using \"Save & Run All\" \n",
    "# You can also write temporary files to /kaggle/temp/, but they won't be saved outside of the current session"
   ]
  },
  {
   "cell_type": "code",
   "execution_count": 2,
   "id": "15bc2522",
   "metadata": {
    "execution": {
     "iopub.execute_input": "2024-01-05T09:26:25.671195Z",
     "iopub.status.busy": "2024-01-05T09:26:25.669630Z",
     "iopub.status.idle": "2024-01-05T09:26:30.063799Z",
     "shell.execute_reply": "2024-01-05T09:26:30.062172Z"
    },
    "papermill": {
     "duration": 4.408485,
     "end_time": "2024-01-05T09:26:30.069910",
     "exception": false,
     "start_time": "2024-01-05T09:26:25.661425",
     "status": "completed"
    },
    "tags": []
   },
   "outputs": [],
   "source": [
    "df_raw = pd.read_csv(\"/kaggle/input/bank-customer-segmentation/bank_transactions.csv\")"
   ]
  },
  {
   "cell_type": "markdown",
   "id": "af11c62c",
   "metadata": {
    "papermill": {
     "duration": 0.006977,
     "end_time": "2024-01-05T09:26:30.086872",
     "exception": false,
     "start_time": "2024-01-05T09:26:30.079895",
     "status": "completed"
    },
    "tags": []
   },
   "source": [
    "# Customer Data before pre-proceesing : "
   ]
  },
  {
   "cell_type": "code",
   "execution_count": 3,
   "id": "b13ef130",
   "metadata": {
    "execution": {
     "iopub.execute_input": "2024-01-05T09:26:30.104796Z",
     "iopub.status.busy": "2024-01-05T09:26:30.103681Z",
     "iopub.status.idle": "2024-01-05T09:26:30.267440Z",
     "shell.execute_reply": "2024-01-05T09:26:30.266116Z"
    },
    "papermill": {
     "duration": 0.175235,
     "end_time": "2024-01-05T09:26:30.270000",
     "exception": false,
     "start_time": "2024-01-05T09:26:30.094765",
     "status": "completed"
    },
    "tags": []
   },
   "outputs": [
    {
     "data": {
      "text/plain": [
       "CustGender\n",
       "M    765530\n",
       "F    281936\n",
       "T         1\n",
       "Name: count, dtype: int64"
      ]
     },
     "execution_count": 3,
     "metadata": {},
     "output_type": "execute_result"
    }
   ],
   "source": [
    "df_raw.CustGender.value_counts()"
   ]
  },
  {
   "cell_type": "code",
   "execution_count": 4,
   "id": "f99baa62",
   "metadata": {
    "execution": {
     "iopub.execute_input": "2024-01-05T09:26:30.285907Z",
     "iopub.status.busy": "2024-01-05T09:26:30.285516Z",
     "iopub.status.idle": "2024-01-05T09:26:30.951595Z",
     "shell.execute_reply": "2024-01-05T09:26:30.949916Z"
    },
    "papermill": {
     "duration": 0.67781,
     "end_time": "2024-01-05T09:26:30.954595",
     "exception": false,
     "start_time": "2024-01-05T09:26:30.276785",
     "status": "completed"
    },
    "tags": []
   },
   "outputs": [
    {
     "data": {
      "text/plain": [
       "TransactionID                 0\n",
       "CustomerID                    0\n",
       "CustomerDOB                3397\n",
       "CustGender                 1100\n",
       "CustLocation                151\n",
       "CustAccountBalance         2369\n",
       "TransactionDate               0\n",
       "TransactionTime               0\n",
       "TransactionAmount (INR)       0\n",
       "dtype: int64"
      ]
     },
     "execution_count": 4,
     "metadata": {},
     "output_type": "execute_result"
    }
   ],
   "source": [
    "df_raw.isnull().sum()"
   ]
  },
  {
   "cell_type": "markdown",
   "id": "7a3aac81",
   "metadata": {
    "papermill": {
     "duration": 0.006447,
     "end_time": "2024-01-05T09:26:30.968331",
     "exception": false,
     "start_time": "2024-01-05T09:26:30.961884",
     "status": "completed"
    },
    "tags": []
   },
   "source": [
    "# Customer Data After pre-proceesing"
   ]
  },
  {
   "cell_type": "code",
   "execution_count": 5,
   "id": "87bc809a",
   "metadata": {
    "execution": {
     "iopub.execute_input": "2024-01-05T09:26:30.984653Z",
     "iopub.status.busy": "2024-01-05T09:26:30.983324Z",
     "iopub.status.idle": "2024-01-05T09:26:32.348172Z",
     "shell.execute_reply": "2024-01-05T09:26:32.346840Z"
    },
    "papermill": {
     "duration": 1.376192,
     "end_time": "2024-01-05T09:26:32.351161",
     "exception": false,
     "start_time": "2024-01-05T09:26:30.974969",
     "status": "completed"
    },
    "tags": []
   },
   "outputs": [
    {
     "data": {
      "text/html": [
       "<div>\n",
       "<style scoped>\n",
       "    .dataframe tbody tr th:only-of-type {\n",
       "        vertical-align: middle;\n",
       "    }\n",
       "\n",
       "    .dataframe tbody tr th {\n",
       "        vertical-align: top;\n",
       "    }\n",
       "\n",
       "    .dataframe thead th {\n",
       "        text-align: right;\n",
       "    }\n",
       "</style>\n",
       "<table border=\"1\" class=\"dataframe\">\n",
       "  <thead>\n",
       "    <tr style=\"text-align: right;\">\n",
       "      <th></th>\n",
       "      <th>Unnamed: 0</th>\n",
       "      <th>ID</th>\n",
       "      <th>Age</th>\n",
       "      <th>Gender</th>\n",
       "      <th>Average bank balance</th>\n",
       "      <th>Average unix time of transaction</th>\n",
       "    </tr>\n",
       "  </thead>\n",
       "  <tbody>\n",
       "    <tr>\n",
       "      <th>0</th>\n",
       "      <td>0</td>\n",
       "      <td>C5841053</td>\n",
       "      <td>22</td>\n",
       "      <td>F</td>\n",
       "      <td>17819.05</td>\n",
       "      <td>143207.0</td>\n",
       "    </tr>\n",
       "    <tr>\n",
       "      <th>1</th>\n",
       "      <td>1</td>\n",
       "      <td>C2142763</td>\n",
       "      <td>59</td>\n",
       "      <td>M</td>\n",
       "      <td>2270.69</td>\n",
       "      <td>141858.0</td>\n",
       "    </tr>\n",
       "    <tr>\n",
       "      <th>2</th>\n",
       "      <td>2</td>\n",
       "      <td>C4417068</td>\n",
       "      <td>20</td>\n",
       "      <td>F</td>\n",
       "      <td>17874.44</td>\n",
       "      <td>142712.0</td>\n",
       "    </tr>\n",
       "    <tr>\n",
       "      <th>3</th>\n",
       "      <td>4</td>\n",
       "      <td>C9031234</td>\n",
       "      <td>28</td>\n",
       "      <td>F</td>\n",
       "      <td>6714.43</td>\n",
       "      <td>181156.0</td>\n",
       "    </tr>\n",
       "    <tr>\n",
       "      <th>4</th>\n",
       "      <td>5</td>\n",
       "      <td>C1536588</td>\n",
       "      <td>44</td>\n",
       "      <td>F</td>\n",
       "      <td>53609.20</td>\n",
       "      <td>173940.0</td>\n",
       "    </tr>\n",
       "  </tbody>\n",
       "</table>\n",
       "</div>"
      ],
      "text/plain": [
       "   Unnamed: 0        ID  Age Gender  Average bank balance  \\\n",
       "0           0  C5841053   22      F              17819.05   \n",
       "1           1  C2142763   59      M               2270.69   \n",
       "2           2  C4417068   20      F              17874.44   \n",
       "3           4  C9031234   28      F               6714.43   \n",
       "4           5  C1536588   44      F              53609.20   \n",
       "\n",
       "   Average unix time of transaction  \n",
       "0                          143207.0  \n",
       "1                          141858.0  \n",
       "2                          142712.0  \n",
       "3                          181156.0  \n",
       "4                          173940.0  "
      ]
     },
     "execution_count": 5,
     "metadata": {},
     "output_type": "execute_result"
    }
   ],
   "source": [
    "cust_df = pd.read_csv(\"/kaggle/input/data-frozenlava/Customers_data (3).csv\")\n",
    "cust_df.head()"
   ]
  },
  {
   "cell_type": "code",
   "execution_count": 6,
   "id": "130e0257",
   "metadata": {
    "execution": {
     "iopub.execute_input": "2024-01-05T09:26:32.367989Z",
     "iopub.status.busy": "2024-01-05T09:26:32.367473Z",
     "iopub.status.idle": "2024-01-05T09:26:34.696283Z",
     "shell.execute_reply": "2024-01-05T09:26:34.694952Z"
    },
    "papermill": {
     "duration": 2.341299,
     "end_time": "2024-01-05T09:26:34.699800",
     "exception": false,
     "start_time": "2024-01-05T09:26:32.358501",
     "status": "completed"
    },
    "tags": []
   },
   "outputs": [
    {
     "data": {
      "image/png": "[encoded data removed]",
      "text/plain": [
       "<Figure size 1500x500 with 2 Axes>"
      ]
     },
     "metadata": {},
     "output_type": "display_data"
    }
   ],
   "source": [
    "import matplotlib.pyplot as plt\n",
    "import seaborn as sns\n",
    "\n",
    "plt.style.use(\"fivethirtyeight\")\n",
    "\n",
    "fig, ax = plt.subplots(ncols=2, nrows=1, figsize=(15, 5))\n",
    "\n",
    "# Adjust the bins to provide a clearer view of the distribution\n",
    "bins = range(15, 80, 5)\n",
    "ax[0].hist(x=cust_df['Age'], color='blue', bins=bins)  \n",
    "ax[0].set_title(\"Distribution of Customer Age\")\n",
    "\n",
    "# Set the colors to blue and yellow for the pie chart\n",
    "palette_color = ['blue', 'yellow']\n",
    "ax[1].pie(cust_df['Gender'].value_counts(), autopct='%1.f%%', colors=palette_color, labels=['M', 'F'])\n",
    "ax[1].set_title(\"Customer Gender\")\n",
    "\n",
    "plt.tight_layout()\n",
    "plt.show()\n"
   ]
  },
  {
   "cell_type": "code",
   "execution_count": 7,
   "id": "c3a4c26d",
   "metadata": {
    "execution": {
     "iopub.execute_input": "2024-01-05T09:26:34.720077Z",
     "iopub.status.busy": "2024-01-05T09:26:34.719538Z",
     "iopub.status.idle": "2024-01-05T09:26:35.480626Z",
     "shell.execute_reply": "2024-01-05T09:26:35.479207Z"
    },
    "papermill": {
     "duration": 0.775089,
     "end_time": "2024-01-05T09:26:35.484142",
     "exception": false,
     "start_time": "2024-01-05T09:26:34.709053",
     "status": "completed"
    },
    "tags": []
   },
   "outputs": [],
   "source": [
    "import matplotlib.pyplot as plt\n",
    "import seaborn as sns\n",
    "import warnings\n",
    "from matplotlib.colors import ListedColormap, LinearSegmentedColormap\n",
    "from sklearn.model_selection import train_test_split, GridSearchCV, StratifiedKFold, cross_val_score\n",
    "from sklearn.preprocessing import KBinsDiscretizer, OneHotEncoder, StandardScaler\n",
    "from sklearn.naive_bayes import ComplementNB, BernoulliNB\n",
    "from sklearn.linear_model import LogisticRegression\n",
    "from sklearn.neighbors import KNeighborsClassifier\n",
    "from sklearn.svm import SVC\n",
    "from sklearn.tree import DecisionTreeClassifier, plot_tree\n",
    "from sklearn.ensemble import RandomForestClassifier, ExtraTreesClassifier\n",
    "from sklearn.ensemble import AdaBoostClassifier, GradientBoostingClassifier\n",
    "from xgboost import XGBClassifier\n",
    "from sklearn.pipeline import Pipeline\n",
    "from sklearn.metrics import accuracy_score, recall_score, precision_score, f1_score, roc_auc_score\n",
    "from sklearn.metrics import classification_report, RocCurveDisplay, ConfusionMatrixDisplay\n",
    "from scipy import stats\n",
    "from sklearn.base import clone "
   ]
  },
  {
   "cell_type": "markdown",
   "id": "f675c18a",
   "metadata": {
    "papermill": {
     "duration": 0.007755,
     "end_time": "2024-01-05T09:26:35.500722",
     "exception": false,
     "start_time": "2024-01-05T09:26:35.492967",
     "status": "completed"
    },
    "tags": []
   },
   "source": [
    "# Details About the transaction :"
   ]
  },
  {
   "cell_type": "code",
   "execution_count": 8,
   "id": "a3109a08",
   "metadata": {
    "execution": {
     "iopub.execute_input": "2024-01-05T09:26:35.519401Z",
     "iopub.status.busy": "2024-01-05T09:26:35.518654Z",
     "iopub.status.idle": "2024-01-05T09:26:36.725412Z",
     "shell.execute_reply": "2024-01-05T09:26:36.724172Z"
    },
    "papermill": {
     "duration": 1.219942,
     "end_time": "2024-01-05T09:26:36.728672",
     "exception": false,
     "start_time": "2024-01-05T09:26:35.508730",
     "status": "completed"
    },
    "tags": []
   },
   "outputs": [],
   "source": [
    "df = pd.read_csv(\"/kaggle/input/data-frozenlava/Transaction_details (2).csv\")"
   ]
  },
  {
   "cell_type": "code",
   "execution_count": 9,
   "id": "17f4e70e",
   "metadata": {
    "execution": {
     "iopub.execute_input": "2024-01-05T09:26:36.747123Z",
     "iopub.status.busy": "2024-01-05T09:26:36.746595Z",
     "iopub.status.idle": "2024-01-05T09:26:37.023931Z",
     "shell.execute_reply": "2024-01-05T09:26:37.022209Z"
    },
    "papermill": {
     "duration": 0.289327,
     "end_time": "2024-01-05T09:26:37.026159",
     "exception": true,
     "start_time": "2024-01-05T09:26:36.736832",
     "status": "failed"
    },
    "tags": []
   },
   "outputs": [
    {
     "ename": "AttributeError",
     "evalue": "'DataFrame' object has no attribute 'profile_report'",
     "output_type": "error",
     "traceback": [
      "\u001b[0;31m---------------------------------------------------------------------------\u001b[0m",
      "\u001b[0;31mAttributeError\u001b[0m                            Traceback (most recent call last)",
      "\u001b[0;32m/tmp/ipykernel_19/3787492659.py\u001b[0m in \u001b[0;36m?\u001b[0;34m()\u001b[0m\n\u001b[0;32m----> 1\u001b[0;31m \u001b[0mdf\u001b[0m\u001b[0;34m.\u001b[0m\u001b[0mprofile_report\u001b[0m\u001b[0;34m(\u001b[0m\u001b[0;34m)\u001b[0m\u001b[0;34m\u001b[0m\u001b[0;34m\u001b[0m\u001b[0m\n\u001b[0m",
      "\u001b[0;32m/opt/conda/lib/python3.10/site-packages/pandas/core/generic.py\u001b[0m in \u001b[0;36m?\u001b[0;34m(self, name)\u001b[0m\n\u001b[1;32m   5985\u001b[0m             \u001b[0;32mand\u001b[0m \u001b[0mname\u001b[0m \u001b[0;32mnot\u001b[0m \u001b[0;32min\u001b[0m \u001b[0mself\u001b[0m\u001b[0;34m.\u001b[0m\u001b[0m_accessors\u001b[0m\u001b[0;34m\u001b[0m\u001b[0;34m\u001b[0m\u001b[0m\n\u001b[1;32m   5986\u001b[0m             \u001b[0;32mand\u001b[0m \u001b[0mself\u001b[0m\u001b[0;34m.\u001b[0m\u001b[0m_info_axis\u001b[0m\u001b[0;34m.\u001b[0m\u001b[0m_can_hold_identifiers_and_holds_name\u001b[0m\u001b[0;34m(\u001b[0m\u001b[0mname\u001b[0m\u001b[0;34m)\u001b[0m\u001b[0;34m\u001b[0m\u001b[0;34m\u001b[0m\u001b[0m\n\u001b[1;32m   5987\u001b[0m         ):\n\u001b[1;32m   5988\u001b[0m             \u001b[0;32mreturn\u001b[0m \u001b[0mself\u001b[0m\u001b[0;34m[\u001b[0m\u001b[0mname\u001b[0m\u001b[0;34m]\u001b[0m\u001b[0;34m\u001b[0m\u001b[0;34m\u001b[0m\u001b[0m\n\u001b[0;32m-> 5989\u001b[0;31m         \u001b[0;32mreturn\u001b[0m \u001b[0mobject\u001b[0m\u001b[0;34m.\u001b[0m\u001b[0m__getattribute__\u001b[0m\u001b[0;34m(\u001b[0m\u001b[0mself\u001b[0m\u001b[0;34m,\u001b[0m \u001b[0mname\u001b[0m\u001b[0;34m)\u001b[0m\u001b[0;34m\u001b[0m\u001b[0;34m\u001b[0m\u001b[0m\n\u001b[0m",
      "\u001b[0;31mAttributeError\u001b[0m: 'DataFrame' object has no attribute 'profile_report'"
     ]
    }
   ],
   "source": [
    "df.profile_report()"
   ]
  },
  {
   "cell_type": "code",
   "execution_count": null,
   "id": "5f4b9b44",
   "metadata": {
    "execution": {
     "iopub.execute_input": "2024-01-05T06:08:43.215187Z",
     "iopub.status.busy": "2024-01-05T06:08:43.214638Z",
     "iopub.status.idle": "2024-01-05T06:08:43.307965Z",
     "shell.execute_reply": "2024-01-05T06:08:43.306437Z",
     "shell.execute_reply.started": "2024-01-05T06:08:43.215150Z"
    },
    "papermill": {
     "duration": null,
     "end_time": null,
     "exception": null,
     "start_time": null,
     "status": "pending"
    },
    "tags": []
   },
   "outputs": [],
   "source": [
    "df.info()"
   ]
  },
  {
   "cell_type": "code",
   "execution_count": null,
   "id": "2336e46f",
   "metadata": {
    "execution": {
     "iopub.execute_input": "2024-01-05T06:09:22.041891Z",
     "iopub.status.busy": "2024-01-05T06:09:22.040412Z",
     "iopub.status.idle": "2024-01-05T06:09:22.411523Z",
     "shell.execute_reply": "2024-01-05T06:09:22.410444Z",
     "shell.execute_reply.started": "2024-01-05T06:09:22.041836Z"
    },
    "papermill": {
     "duration": null,
     "end_time": null,
     "exception": null,
     "start_time": null,
     "status": "pending"
    },
    "tags": []
   },
   "outputs": [],
   "source": [
    "df.nunique()"
   ]
  },
  {
   "cell_type": "code",
   "execution_count": null,
   "id": "3acd3d1e",
   "metadata": {
    "execution": {
     "iopub.execute_input": "2024-01-05T06:09:43.991450Z",
     "iopub.status.busy": "2024-01-05T06:09:43.990954Z",
     "iopub.status.idle": "2024-01-05T06:09:44.084740Z",
     "shell.execute_reply": "2024-01-05T06:09:44.083346Z",
     "shell.execute_reply.started": "2024-01-05T06:09:43.991410Z"
    },
    "papermill": {
     "duration": null,
     "end_time": null,
     "exception": null,
     "start_time": null,
     "status": "pending"
    },
    "tags": []
   },
   "outputs": [],
   "source": [
    "df.isnull().sum()"
   ]
  },
  {
   "cell_type": "code",
   "execution_count": null,
   "id": "ae0ba9f1",
   "metadata": {
    "execution": {
     "iopub.execute_input": "2024-01-05T06:12:57.203292Z",
     "iopub.status.busy": "2024-01-05T06:12:57.202802Z",
     "iopub.status.idle": "2024-01-05T06:12:58.246941Z",
     "shell.execute_reply": "2024-01-05T06:12:58.245958Z",
     "shell.execute_reply.started": "2024-01-05T06:12:57.203252Z"
    },
    "papermill": {
     "duration": null,
     "end_time": null,
     "exception": null,
     "start_time": null,
     "status": "pending"
    },
    "tags": []
   },
   "outputs": [],
   "source": [
    "df.describe(include='all').T"
   ]
  },
  {
   "cell_type": "code",
   "execution_count": null,
   "id": "8371d566",
   "metadata": {
    "papermill": {
     "duration": null,
     "end_time": null,
     "exception": null,
     "start_time": null,
     "status": "pending"
    },
    "tags": []
   },
   "outputs": [],
   "source": []
  }
 ],
 "metadata": {
  "kaggle": {
   "accelerator": "none",
   "dataSources": [
    {
     "databundleVersionId": 2789165,
     "datasetId": 1672910,
     "sourceId": 2743905,
     "sourceType": "datasetVersion"
    },
    {
     "databundleVersionId": 7433175,
     "datasetId": 4261526,
     "sourceId": 7342795,
     "sourceType": "datasetVersion"
    }
   ],
   "dockerImageVersionId": 30626,
   "isGpuEnabled": false,
   "isInternetEnabled": true,
   "language": "python",
   "sourceType": "notebook"
  },
  "kernelspec": {
   "display_name": "Python 3",
   "language": "python",
   "name": "python3"
  },
  "language_info": {
   "codemirror_mode": {
    "name": "ipython",
    "version": 3
   },
   "file_extension": ".py",
   "mimetype": "text/x-python",
   "name": "python",
   "nbconvert_exporter": "python",
   "pygments_lexer": "ipython3",
   "version": "3.10.12"
  },
  "papermill": {
   "default_parameters": {},
   "duration": 16.7772,
   "end_time": "2024-01-05T09:26:38.159710",
   "environment_variables": {},
   "exception": true,
   "input_path": "__notebook__.ipynb",
   "output_path": "__notebook__.ipynb",
   "parameters": {},
   "start_time": "2024-01-05T09:26:21.382510",
   "version": "2.4.0"
  }
 },
 "nbformat": 4,
 "nbformat_minor": 5
}
