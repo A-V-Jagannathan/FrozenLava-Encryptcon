{
 "cells": [
  {
   "cell_type": "markdown",
   "id": "4e6fec82",
   "metadata": {
    "papermill": {
     "duration": 0.006486,
     "end_time": "2024-01-05T05:47:54.919420",
     "exception": false,
     "start_time": "2024-01-05T05:47:54.912934",
     "status": "completed"
    },
    "tags": []
   },
   "source": [
    "# XGB cluster 0"
   ]
  },
  {
   "cell_type": "code",
   "execution_count": 1,
   "id": "3a0a5265",
   "metadata": {
    "execution": {
     "iopub.execute_input": "2024-01-05T05:47:54.934191Z",
     "iopub.status.busy": "2024-01-05T05:47:54.933500Z",
     "iopub.status.idle": "2024-01-05T05:47:57.594257Z",
     "shell.execute_reply": "2024-01-05T05:47:57.592938Z"
    },
    "papermill": {
     "duration": 2.670812,
     "end_time": "2024-01-05T05:47:57.596841",
     "exception": false,
     "start_time": "2024-01-05T05:47:54.926029",
     "status": "completed"
    },
    "tags": []
   },
   "outputs": [
    {
     "data": {
      "text/html": [
       "<div>\n",
       "<style scoped>\n",
       "    .dataframe tbody tr th:only-of-type {\n",
       "        vertical-align: middle;\n",
       "    }\n",
       "\n",
       "    .dataframe tbody tr th {\n",
       "        vertical-align: top;\n",
       "    }\n",
       "\n",
       "    .dataframe thead th {\n",
       "        text-align: right;\n",
       "    }\n",
       "</style>\n",
       "<table border=\"1\" class=\"dataframe\">\n",
       "  <thead>\n",
       "    <tr style=\"text-align: right;\">\n",
       "      <th></th>\n",
       "      <th>Sno</th>\n",
       "      <th>CustAccountBalance</th>\n",
       "      <th>TransactionTime</th>\n",
       "      <th>TransactionAmount (INR)</th>\n",
       "      <th>Fraud</th>\n",
       "    </tr>\n",
       "  </thead>\n",
       "  <tbody>\n",
       "    <tr>\n",
       "      <th>346909</th>\n",
       "      <td>552802</td>\n",
       "      <td>590056.69</td>\n",
       "      <td>122843</td>\n",
       "      <td>8440.00</td>\n",
       "      <td>1</td>\n",
       "    </tr>\n",
       "    <tr>\n",
       "      <th>406854</th>\n",
       "      <td>485434</td>\n",
       "      <td>38080.91</td>\n",
       "      <td>182427</td>\n",
       "      <td>50.00</td>\n",
       "      <td>1</td>\n",
       "    </tr>\n",
       "    <tr>\n",
       "      <th>480201</th>\n",
       "      <td>565339</td>\n",
       "      <td>582.31</td>\n",
       "      <td>155102</td>\n",
       "      <td>1512.75</td>\n",
       "      <td>1</td>\n",
       "    </tr>\n",
       "    <tr>\n",
       "      <th>97109</th>\n",
       "      <td>36705</td>\n",
       "      <td>417874.67</td>\n",
       "      <td>92243</td>\n",
       "      <td>256.00</td>\n",
       "      <td>0</td>\n",
       "    </tr>\n",
       "    <tr>\n",
       "      <th>26442</th>\n",
       "      <td>268838</td>\n",
       "      <td>9785.76</td>\n",
       "      <td>114608</td>\n",
       "      <td>50.00</td>\n",
       "      <td>0</td>\n",
       "    </tr>\n",
       "  </tbody>\n",
       "</table>\n",
       "</div>"
      ],
      "text/plain": [
       "           Sno  CustAccountBalance  TransactionTime  TransactionAmount (INR)  \\\n",
       "346909  552802           590056.69           122843                  8440.00   \n",
       "406854  485434            38080.91           182427                    50.00   \n",
       "480201  565339              582.31           155102                  1512.75   \n",
       "97109    36705           417874.67            92243                   256.00   \n",
       "26442   268838             9785.76           114608                    50.00   \n",
       "\n",
       "        Fraud  \n",
       "346909      1  \n",
       "406854      1  \n",
       "480201      1  \n",
       "97109       0  \n",
       "26442       0  "
      ]
     },
     "execution_count": 1,
     "metadata": {},
     "output_type": "execute_result"
    }
   ],
   "source": [
    "import numpy as np\n",
    "import pandas as pd\n",
    "from xgboost import XGBClassifier\n",
    "from sklearn.metrics import classification_report, confusion_matrix, accuracy_score\n",
    "from sklearn.model_selection import train_test_split\n",
    "data = '/kaggle/input/data-frozenlava/Cluster0data.csv'\n",
    "cl_names=['Sno','CustAccountBalance','TransactionTime','TransactionAmount (INR)','Fraud']\n",
    "df = pd.read_csv(data,header=0,names=cl_names)\n",
    "shuffled_df = df.sample(frac=1, random_state=42)  # frac=1 means shuffle all rows\n",
    "shuffled_df.head()"
   ]
  },
  {
   "cell_type": "code",
   "execution_count": 2,
   "id": "5f1d2a63",
   "metadata": {
    "execution": {
     "iopub.execute_input": "2024-01-05T05:47:57.610993Z",
     "iopub.status.busy": "2024-01-05T05:47:57.610540Z",
     "iopub.status.idle": "2024-01-05T05:47:57.638388Z",
     "shell.execute_reply": "2024-01-05T05:47:57.636890Z"
    },
    "papermill": {
     "duration": 0.038307,
     "end_time": "2024-01-05T05:47:57.641321",
     "exception": false,
     "start_time": "2024-01-05T05:47:57.603014",
     "status": "completed"
    },
    "tags": []
   },
   "outputs": [],
   "source": [
    "x= shuffled_df.drop(['Fraud'],axis=1)\n",
    "x=x.drop(\"Sno\",axis=1)\n",
    "y = shuffled_df['Fraud']"
   ]
  },
  {
   "cell_type": "code",
   "execution_count": 3,
   "id": "00d3c9b3",
   "metadata": {
    "execution": {
     "iopub.execute_input": "2024-01-05T05:47:57.655424Z",
     "iopub.status.busy": "2024-01-05T05:47:57.655040Z",
     "iopub.status.idle": "2024-01-05T05:47:59.634059Z",
     "shell.execute_reply": "2024-01-05T05:47:59.632231Z"
    },
    "papermill": {
     "duration": 1.990705,
     "end_time": "2024-01-05T05:47:59.638132",
     "exception": false,
     "start_time": "2024-01-05T05:47:57.647427",
     "status": "completed"
    },
    "tags": []
   },
   "outputs": [
    {
     "name": "stdout",
     "output_type": "stream",
     "text": [
      "              precision    recall  f1-score   support\n",
      "\n",
      "           0       0.60      0.62      0.61     54201\n",
      "           1       0.60      0.58      0.59     54013\n",
      "\n",
      "    accuracy                           0.60    108214\n",
      "   macro avg       0.60      0.60      0.60    108214\n",
      "weighted avg       0.60      0.60      0.60    108214\n",
      "\n"
     ]
    }
   ],
   "source": [
    "x_train, x_test, y_train, y_test = train_test_split(x, y,test_size = 0.2)\n",
    "model_cluster0 = XGBClassifier()\n",
    "model_cluster0 .fit(x_train, y_train)\n",
    "y_pred=model_cluster0 .predict(x_test)\n",
    "print(classification_report(y_test, y_pred))"
   ]
  },
  {
   "cell_type": "markdown",
   "id": "321dd516",
   "metadata": {
    "papermill": {
     "duration": 0.006029,
     "end_time": "2024-01-05T05:47:59.650595",
     "exception": false,
     "start_time": "2024-01-05T05:47:59.644566",
     "status": "completed"
    },
    "tags": []
   },
   "source": [
    "# XGB Cluster1"
   ]
  },
  {
   "cell_type": "code",
   "execution_count": 4,
   "id": "c92da336",
   "metadata": {
    "execution": {
     "iopub.execute_input": "2024-01-05T05:47:59.664620Z",
     "iopub.status.busy": "2024-01-05T05:47:59.664187Z",
     "iopub.status.idle": "2024-01-05T05:48:00.072899Z",
     "shell.execute_reply": "2024-01-05T05:48:00.071772Z"
    },
    "papermill": {
     "duration": 0.419009,
     "end_time": "2024-01-05T05:48:00.075746",
     "exception": false,
     "start_time": "2024-01-05T05:47:59.656737",
     "status": "completed"
    },
    "tags": []
   },
   "outputs": [
    {
     "data": {
      "text/html": [
       "<div>\n",
       "<style scoped>\n",
       "    .dataframe tbody tr th:only-of-type {\n",
       "        vertical-align: middle;\n",
       "    }\n",
       "\n",
       "    .dataframe tbody tr th {\n",
       "        vertical-align: top;\n",
       "    }\n",
       "\n",
       "    .dataframe thead th {\n",
       "        text-align: right;\n",
       "    }\n",
       "</style>\n",
       "<table border=\"1\" class=\"dataframe\">\n",
       "  <thead>\n",
       "    <tr style=\"text-align: right;\">\n",
       "      <th></th>\n",
       "      <th>Sno</th>\n",
       "      <th>CustAccountBalance</th>\n",
       "      <th>TransactionTime</th>\n",
       "      <th>TransactionAmount (INR)</th>\n",
       "      <th>Fraud</th>\n",
       "    </tr>\n",
       "  </thead>\n",
       "  <tbody>\n",
       "    <tr>\n",
       "      <th>145842</th>\n",
       "      <td>156353</td>\n",
       "      <td>0.64</td>\n",
       "      <td>225024</td>\n",
       "      <td>100.0</td>\n",
       "      <td>0</td>\n",
       "    </tr>\n",
       "    <tr>\n",
       "      <th>307088</th>\n",
       "      <td>692048</td>\n",
       "      <td>2039.77</td>\n",
       "      <td>122917</td>\n",
       "      <td>20.0</td>\n",
       "      <td>1</td>\n",
       "    </tr>\n",
       "    <tr>\n",
       "      <th>95712</th>\n",
       "      <td>127862</td>\n",
       "      <td>10676.30</td>\n",
       "      <td>202425</td>\n",
       "      <td>310.0</td>\n",
       "      <td>0</td>\n",
       "    </tr>\n",
       "    <tr>\n",
       "      <th>82669</th>\n",
       "      <td>149641</td>\n",
       "      <td>70153.69</td>\n",
       "      <td>150108</td>\n",
       "      <td>1095.0</td>\n",
       "      <td>0</td>\n",
       "    </tr>\n",
       "    <tr>\n",
       "      <th>168221</th>\n",
       "      <td>13149</td>\n",
       "      <td>29693.88</td>\n",
       "      <td>173722</td>\n",
       "      <td>515.0</td>\n",
       "      <td>0</td>\n",
       "    </tr>\n",
       "  </tbody>\n",
       "</table>\n",
       "</div>"
      ],
      "text/plain": [
       "           Sno  CustAccountBalance  TransactionTime  TransactionAmount (INR)  \\\n",
       "145842  156353                0.64           225024                    100.0   \n",
       "307088  692048             2039.77           122917                     20.0   \n",
       "95712   127862            10676.30           202425                    310.0   \n",
       "82669   149641            70153.69           150108                   1095.0   \n",
       "168221   13149            29693.88           173722                    515.0   \n",
       "\n",
       "        Fraud  \n",
       "145842      0  \n",
       "307088      1  \n",
       "95712       0  \n",
       "82669       0  \n",
       "168221      0  "
      ]
     },
     "execution_count": 4,
     "metadata": {},
     "output_type": "execute_result"
    }
   ],
   "source": [
    "data = '/kaggle/input/data-frozenlava/Cluster1data.csv'\n",
    "cl_names=['Sno','CustAccountBalance','TransactionTime','TransactionAmount (INR)','Fraud']\n",
    "df = pd.read_csv(data,header=0,names=cl_names)\n",
    "shuffled_df = df.sample(frac=1, random_state=42)  # frac=1 means shuffle all rows\n",
    "shuffled_df.head()"
   ]
  },
  {
   "cell_type": "code",
   "execution_count": 5,
   "id": "82b57991",
   "metadata": {
    "execution": {
     "iopub.execute_input": "2024-01-05T05:48:00.091101Z",
     "iopub.status.busy": "2024-01-05T05:48:00.090616Z",
     "iopub.status.idle": "2024-01-05T05:48:00.105456Z",
     "shell.execute_reply": "2024-01-05T05:48:00.104174Z"
    },
    "papermill": {
     "duration": 0.025595,
     "end_time": "2024-01-05T05:48:00.108190",
     "exception": false,
     "start_time": "2024-01-05T05:48:00.082595",
     "status": "completed"
    },
    "tags": []
   },
   "outputs": [],
   "source": [
    "x= shuffled_df.drop(['Fraud'],axis=1)\n",
    "x=x.drop(\"Sno\",axis=1)\n",
    "y = shuffled_df['Fraud']"
   ]
  },
  {
   "cell_type": "code",
   "execution_count": 6,
   "id": "c0259957",
   "metadata": {
    "execution": {
     "iopub.execute_input": "2024-01-05T05:48:00.123114Z",
     "iopub.status.busy": "2024-01-05T05:48:00.122653Z",
     "iopub.status.idle": "2024-01-05T05:48:02.869288Z",
     "shell.execute_reply": "2024-01-05T05:48:02.868202Z"
    },
    "papermill": {
     "duration": 2.757326,
     "end_time": "2024-01-05T05:48:02.872118",
     "exception": false,
     "start_time": "2024-01-05T05:48:00.114792",
     "status": "completed"
    },
    "tags": []
   },
   "outputs": [
    {
     "name": "stdout",
     "output_type": "stream",
     "text": [
      "              precision    recall  f1-score   support\n",
      "\n",
      "           0       0.57      0.59      0.58     36892\n",
      "           1       0.58      0.55      0.56     37157\n",
      "\n",
      "    accuracy                           0.57     74049\n",
      "   macro avg       0.57      0.57      0.57     74049\n",
      "weighted avg       0.57      0.57      0.57     74049\n",
      "\n"
     ]
    }
   ],
   "source": [
    "x_train, x_test, y_train, y_test = train_test_split(x, y,test_size = 0.2)\n",
    "model_cluster1 = XGBClassifier()\n",
    "model_cluster1.fit(x_train, y_train)\n",
    "y_pred=model_cluster1.predict(x_test) \n",
    "print(classification_report(y_test, y_pred))"
   ]
  },
  {
   "cell_type": "markdown",
   "id": "a2be567b",
   "metadata": {
    "papermill": {
     "duration": 0.006425,
     "end_time": "2024-01-05T05:48:02.885424",
     "exception": false,
     "start_time": "2024-01-05T05:48:02.878999",
     "status": "completed"
    },
    "tags": []
   },
   "source": [
    "# XGB Cluster 2"
   ]
  },
  {
   "cell_type": "code",
   "execution_count": 7,
   "id": "dd04ae61",
   "metadata": {
    "execution": {
     "iopub.execute_input": "2024-01-05T05:48:02.900181Z",
     "iopub.status.busy": "2024-01-05T05:48:02.899732Z",
     "iopub.status.idle": "2024-01-05T05:48:03.120370Z",
     "shell.execute_reply": "2024-01-05T05:48:03.119035Z"
    },
    "papermill": {
     "duration": 0.231752,
     "end_time": "2024-01-05T05:48:03.123645",
     "exception": false,
     "start_time": "2024-01-05T05:48:02.891893",
     "status": "completed"
    },
    "tags": []
   },
   "outputs": [
    {
     "data": {
      "text/html": [
       "<div>\n",
       "<style scoped>\n",
       "    .dataframe tbody tr th:only-of-type {\n",
       "        vertical-align: middle;\n",
       "    }\n",
       "\n",
       "    .dataframe tbody tr th {\n",
       "        vertical-align: top;\n",
       "    }\n",
       "\n",
       "    .dataframe thead th {\n",
       "        text-align: right;\n",
       "    }\n",
       "</style>\n",
       "<table border=\"1\" class=\"dataframe\">\n",
       "  <thead>\n",
       "    <tr style=\"text-align: right;\">\n",
       "      <th></th>\n",
       "      <th>Sno</th>\n",
       "      <th>CustAccountBalance</th>\n",
       "      <th>TransactionTime</th>\n",
       "      <th>TransactionAmount (INR)</th>\n",
       "      <th>Fraud</th>\n",
       "    </tr>\n",
       "  </thead>\n",
       "  <tbody>\n",
       "    <tr>\n",
       "      <th>82885</th>\n",
       "      <td>76865</td>\n",
       "      <td>35943.38</td>\n",
       "      <td>205227</td>\n",
       "      <td>235.00</td>\n",
       "      <td>0</td>\n",
       "    </tr>\n",
       "    <tr>\n",
       "      <th>103402</th>\n",
       "      <td>699992</td>\n",
       "      <td>1191872.21</td>\n",
       "      <td>233114</td>\n",
       "      <td>6632.00</td>\n",
       "      <td>1</td>\n",
       "    </tr>\n",
       "    <tr>\n",
       "      <th>47005</th>\n",
       "      <td>13310</td>\n",
       "      <td>220956.69</td>\n",
       "      <td>180958</td>\n",
       "      <td>2770.95</td>\n",
       "      <td>0</td>\n",
       "    </tr>\n",
       "    <tr>\n",
       "      <th>165894</th>\n",
       "      <td>653273</td>\n",
       "      <td>73991.62</td>\n",
       "      <td>203128</td>\n",
       "      <td>748.70</td>\n",
       "      <td>1</td>\n",
       "    </tr>\n",
       "    <tr>\n",
       "      <th>136042</th>\n",
       "      <td>167702</td>\n",
       "      <td>31224.09</td>\n",
       "      <td>220920</td>\n",
       "      <td>100.00</td>\n",
       "      <td>1</td>\n",
       "    </tr>\n",
       "  </tbody>\n",
       "</table>\n",
       "</div>"
      ],
      "text/plain": [
       "           Sno  CustAccountBalance  TransactionTime  TransactionAmount (INR)  \\\n",
       "82885    76865            35943.38           205227                   235.00   \n",
       "103402  699992          1191872.21           233114                  6632.00   \n",
       "47005    13310           220956.69           180958                  2770.95   \n",
       "165894  653273            73991.62           203128                   748.70   \n",
       "136042  167702            31224.09           220920                   100.00   \n",
       "\n",
       "        Fraud  \n",
       "82885       0  \n",
       "103402      1  \n",
       "47005       0  \n",
       "165894      1  \n",
       "136042      1  "
      ]
     },
     "execution_count": 7,
     "metadata": {},
     "output_type": "execute_result"
    }
   ],
   "source": [
    "data = '/kaggle/input/data-frozenlava/Cluster2data.csv'\n",
    "cl_names=['Sno','CustAccountBalance','TransactionTime','TransactionAmount (INR)','Fraud']\n",
    "df = pd.read_csv(data,header=0,names=cl_names)\n",
    "shuffled_df = df.sample(frac=1, random_state=42)  # frac=1 means shuffle all rows\n",
    "shuffled_df.head()"
   ]
  },
  {
   "cell_type": "code",
   "execution_count": 8,
   "id": "061dd9c5",
   "metadata": {
    "execution": {
     "iopub.execute_input": "2024-01-05T05:48:03.139753Z",
     "iopub.status.busy": "2024-01-05T05:48:03.139003Z",
     "iopub.status.idle": "2024-01-05T05:48:03.149070Z",
     "shell.execute_reply": "2024-01-05T05:48:03.148140Z"
    },
    "papermill": {
     "duration": 0.02103,
     "end_time": "2024-01-05T05:48:03.151629",
     "exception": false,
     "start_time": "2024-01-05T05:48:03.130599",
     "status": "completed"
    },
    "tags": []
   },
   "outputs": [],
   "source": [
    "x= shuffled_df.drop(['Fraud'],axis=1)\n",
    "x=x.drop(\"Sno\",axis=1)\n",
    "y = shuffled_df['Fraud']"
   ]
  },
  {
   "cell_type": "code",
   "execution_count": 9,
   "id": "0bf6530d",
   "metadata": {
    "execution": {
     "iopub.execute_input": "2024-01-05T05:48:03.167231Z",
     "iopub.status.busy": "2024-01-05T05:48:03.166785Z",
     "iopub.status.idle": "2024-01-05T05:48:03.832197Z",
     "shell.execute_reply": "2024-01-05T05:48:03.830729Z"
    },
    "papermill": {
     "duration": 0.676407,
     "end_time": "2024-01-05T05:48:03.834941",
     "exception": false,
     "start_time": "2024-01-05T05:48:03.158534",
     "status": "completed"
    },
    "tags": []
   },
   "outputs": [
    {
     "name": "stdout",
     "output_type": "stream",
     "text": [
      "              precision    recall  f1-score   support\n",
      "\n",
      "           0       0.66      0.61      0.64     17023\n",
      "           1       0.64      0.68      0.66     17098\n",
      "\n",
      "    accuracy                           0.65     34121\n",
      "   macro avg       0.65      0.65      0.65     34121\n",
      "weighted avg       0.65      0.65      0.65     34121\n",
      "\n"
     ]
    }
   ],
   "source": [
    "x_train, x_test, y_train, y_test = train_test_split(x, y,test_size = 0.2)\n",
    "model_cluster2 = XGBClassifier()\n",
    "model_cluster2.fit(x_train, y_train)\n",
    "y_pred=model_cluster2.predict(x_test) \n",
    "print(classification_report(y_test, y_pred))"
   ]
  },
  {
   "cell_type": "markdown",
   "id": "70ea4585",
   "metadata": {
    "papermill": {
     "duration": 0.006672,
     "end_time": "2024-01-05T05:48:03.848608",
     "exception": false,
     "start_time": "2024-01-05T05:48:03.841936",
     "status": "completed"
    },
    "tags": []
   },
   "source": [
    "# XGB Cluster 3"
   ]
  },
  {
   "cell_type": "code",
   "execution_count": 10,
   "id": "35e02eae",
   "metadata": {
    "execution": {
     "iopub.execute_input": "2024-01-05T05:48:03.864511Z",
     "iopub.status.busy": "2024-01-05T05:48:03.863805Z",
     "iopub.status.idle": "2024-01-05T05:48:03.886599Z",
     "shell.execute_reply": "2024-01-05T05:48:03.885508Z"
    },
    "papermill": {
     "duration": 0.033565,
     "end_time": "2024-01-05T05:48:03.889141",
     "exception": false,
     "start_time": "2024-01-05T05:48:03.855576",
     "status": "completed"
    },
    "tags": []
   },
   "outputs": [
    {
     "data": {
      "text/html": [
       "<div>\n",
       "<style scoped>\n",
       "    .dataframe tbody tr th:only-of-type {\n",
       "        vertical-align: middle;\n",
       "    }\n",
       "\n",
       "    .dataframe tbody tr th {\n",
       "        vertical-align: top;\n",
       "    }\n",
       "\n",
       "    .dataframe thead th {\n",
       "        text-align: right;\n",
       "    }\n",
       "</style>\n",
       "<table border=\"1\" class=\"dataframe\">\n",
       "  <thead>\n",
       "    <tr style=\"text-align: right;\">\n",
       "      <th></th>\n",
       "      <th>Sno</th>\n",
       "      <th>CustAccountBalance</th>\n",
       "      <th>TransactionTime</th>\n",
       "      <th>TransactionAmount (INR)</th>\n",
       "      <th>Fraud</th>\n",
       "    </tr>\n",
       "  </thead>\n",
       "  <tbody>\n",
       "    <tr>\n",
       "      <th>100</th>\n",
       "      <td>86</td>\n",
       "      <td>38321149.19</td>\n",
       "      <td>171043</td>\n",
       "      <td>100000.00</td>\n",
       "      <td>0</td>\n",
       "    </tr>\n",
       "    <tr>\n",
       "      <th>215</th>\n",
       "      <td>32414</td>\n",
       "      <td>52738.99</td>\n",
       "      <td>152903</td>\n",
       "      <td>1486.66</td>\n",
       "      <td>1</td>\n",
       "    </tr>\n",
       "    <tr>\n",
       "      <th>139</th>\n",
       "      <td>664557</td>\n",
       "      <td>127.29</td>\n",
       "      <td>112113</td>\n",
       "      <td>284.00</td>\n",
       "      <td>1</td>\n",
       "    </tr>\n",
       "    <tr>\n",
       "      <th>178</th>\n",
       "      <td>579160</td>\n",
       "      <td>300512.75</td>\n",
       "      <td>113355</td>\n",
       "      <td>2296.00</td>\n",
       "      <td>1</td>\n",
       "    </tr>\n",
       "    <tr>\n",
       "      <th>15</th>\n",
       "      <td>70</td>\n",
       "      <td>82244629.90</td>\n",
       "      <td>121912</td>\n",
       "      <td>2065.00</td>\n",
       "      <td>0</td>\n",
       "    </tr>\n",
       "  </tbody>\n",
       "</table>\n",
       "</div>"
      ],
      "text/plain": [
       "        Sno  CustAccountBalance  TransactionTime  TransactionAmount (INR)  \\\n",
       "100      86         38321149.19           171043                100000.00   \n",
       "215   32414            52738.99           152903                  1486.66   \n",
       "139  664557              127.29           112113                   284.00   \n",
       "178  579160           300512.75           113355                  2296.00   \n",
       "15       70         82244629.90           121912                  2065.00   \n",
       "\n",
       "     Fraud  \n",
       "100      0  \n",
       "215      1  \n",
       "139      1  \n",
       "178      1  \n",
       "15       0  "
      ]
     },
     "execution_count": 10,
     "metadata": {},
     "output_type": "execute_result"
    }
   ],
   "source": [
    "data = '/kaggle/input/data-frozenlava/Cluster3data.csv'\n",
    "cl_names=['Sno','CustAccountBalance','TransactionTime','TransactionAmount (INR)','Fraud']\n",
    "df = pd.read_csv(data,header=0,names=cl_names)\n",
    "shuffled_df = df.sample(frac=1, random_state=42)  # frac=1 means shuffle all rows\n",
    "shuffled_df.head()"
   ]
  },
  {
   "cell_type": "code",
   "execution_count": 11,
   "id": "aef05ea3",
   "metadata": {
    "execution": {
     "iopub.execute_input": "2024-01-05T05:48:03.905892Z",
     "iopub.status.busy": "2024-01-05T05:48:03.905128Z",
     "iopub.status.idle": "2024-01-05T05:48:03.911888Z",
     "shell.execute_reply": "2024-01-05T05:48:03.911060Z"
    },
    "papermill": {
     "duration": 0.017723,
     "end_time": "2024-01-05T05:48:03.914095",
     "exception": false,
     "start_time": "2024-01-05T05:48:03.896372",
     "status": "completed"
    },
    "tags": []
   },
   "outputs": [],
   "source": [
    "x= shuffled_df.drop(['Fraud'],axis=1)\n",
    "x=x.drop(\"Sno\",axis=1)\n",
    "y = shuffled_df['Fraud']"
   ]
  },
  {
   "cell_type": "code",
   "execution_count": 12,
   "id": "fd56d810",
   "metadata": {
    "execution": {
     "iopub.execute_input": "2024-01-05T05:48:03.931333Z",
     "iopub.status.busy": "2024-01-05T05:48:03.930466Z",
     "iopub.status.idle": "2024-01-05T05:48:03.973878Z",
     "shell.execute_reply": "2024-01-05T05:48:03.973047Z"
    },
    "papermill": {
     "duration": 0.054814,
     "end_time": "2024-01-05T05:48:03.976475",
     "exception": false,
     "start_time": "2024-01-05T05:48:03.921661",
     "status": "completed"
    },
    "tags": []
   },
   "outputs": [
    {
     "name": "stdout",
     "output_type": "stream",
     "text": [
      "              precision    recall  f1-score   support\n",
      "\n",
      "           0       1.00      1.00      1.00        25\n",
      "           1       1.00      1.00      1.00        19\n",
      "\n",
      "    accuracy                           1.00        44\n",
      "   macro avg       1.00      1.00      1.00        44\n",
      "weighted avg       1.00      1.00      1.00        44\n",
      "\n"
     ]
    }
   ],
   "source": [
    "x_train, x_test, y_train, y_test = train_test_split(x, y,test_size = 0.2)\n",
    "model_cluster3 = XGBClassifier()\n",
    "model_cluster3.fit(x_train, y_train)\n",
    "y_pred=model_cluster3.predict(x_test)  \n",
    "print(classification_report(y_test, y_pred))"
   ]
  }
 ],
 "metadata": {
  "kaggle": {
   "accelerator": "none",
   "dataSources": [
    {
     "datasetId": 4261634,
     "sourceId": 7340101,
     "sourceType": "datasetVersion"
    },
    {
     "datasetId": 4261526,
     "sourceId": 7340410,
     "sourceType": "datasetVersion"
    }
   ],
   "dockerImageVersionId": 30626,
   "isGpuEnabled": false,
   "isInternetEnabled": false,
   "language": "python",
   "sourceType": "notebook"
  },
  "kernelspec": {
   "display_name": "Python 3",
   "language": "python",
   "name": "python3"
  },
  "language_info": {
   "codemirror_mode": {
    "name": "ipython",
    "version": 3
   },
   "file_extension": ".py",
   "mimetype": "text/x-python",
   "name": "python",
   "nbconvert_exporter": "python",
   "pygments_lexer": "ipython3",
   "version": "3.10.12"
  },
  "papermill": {
   "default_parameters": {},
   "duration": 13.189266,
   "end_time": "2024-01-05T05:48:04.604656",
   "environment_variables": {},
   "exception": null,
   "input_path": "__notebook__.ipynb",
   "output_path": "__notebook__.ipynb",
   "parameters": {},
   "start_time": "2024-01-05T05:47:51.415390",
   "version": "2.4.0"
  }
 },
 "nbformat": 4,
 "nbformat_minor": 5
}
