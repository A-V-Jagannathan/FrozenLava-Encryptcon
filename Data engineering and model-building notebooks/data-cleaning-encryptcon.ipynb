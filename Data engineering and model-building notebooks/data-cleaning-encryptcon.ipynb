{
 "cells": [
  {
   "cell_type": "code",
   "execution_count": 1,
   "id": "320b9d7a",
   "metadata": {
    "_cell_guid": "b1076dfc-b9ad-4769-8c92-a6c4dae69d19",
    "_uuid": "8f2839f25d086af736a60e9eeb907d3b93b6e0e5",
    "execution": {
     "iopub.execute_input": "2024-01-04T21:20:02.919389Z",
     "iopub.status.busy": "2024-01-04T21:20:02.918863Z",
     "iopub.status.idle": "2024-01-04T21:20:03.407199Z",
     "shell.execute_reply": "2024-01-04T21:20:03.405464Z"
    },
    "papermill": {
     "duration": 0.508407,
     "end_time": "2024-01-04T21:20:03.410669",
     "exception": false,
     "start_time": "2024-01-04T21:20:02.902262",
     "status": "completed"
    },
    "tags": []
   },
   "outputs": [
    {
     "name": "stdout",
     "output_type": "stream",
     "text": [
      "/kaggle/input/bank-customer-segmentation/bank_transactions.csv\n"
     ]
    }
   ],
   "source": [
    "# This Python 3 environment comes with many helpful analytics libraries installed\n",
    "# It is defined by the kaggle/python Docker image: https://github.com/kaggle/docker-python\n",
    "# For example, here's several helpful packages to load\n",
    "\n",
    "import numpy as np # linear algebra\n",
    "import pandas as pd # data processing, CSV file I/O (e.g. pd.read_csv)\n",
    "\n",
    "# Input data files are available in the read-only \"../input/\" directory\n",
    "# For example, running this (by clicking run or pressing Shift+Enter) will list all files under the input directory\n",
    "\n",
    "import os\n",
    "for dirname, _, filenames in os.walk('/kaggle/input'):\n",
    "    for filename in filenames:\n",
    "        print(os.path.join(dirname, filename))\n",
    "\n",
    "# You can write up to 20GB to the current directory (/kaggle/working/) that gets preserved as output when you create a version using \"Save & Run All\" \n",
    "# You can also write temporary files to /kaggle/temp/, but they won't be saved outside of the current session"
   ]
  },
  {
   "cell_type": "code",
   "execution_count": 2,
   "id": "7a3f5c20",
   "metadata": {
    "execution": {
     "iopub.execute_input": "2024-01-04T21:20:03.441963Z",
     "iopub.status.busy": "2024-01-04T21:20:03.441411Z",
     "iopub.status.idle": "2024-01-04T21:20:08.080798Z",
     "shell.execute_reply": "2024-01-04T21:20:08.077719Z"
    },
    "papermill": {
     "duration": 4.660987,
     "end_time": "2024-01-04T21:20:08.085712",
     "exception": false,
     "start_time": "2024-01-04T21:20:03.424725",
     "status": "completed"
    },
    "tags": []
   },
   "outputs": [
    {
     "data": {
      "text/html": [
       "<div>\n",
       "<style scoped>\n",
       "    .dataframe tbody tr th:only-of-type {\n",
       "        vertical-align: middle;\n",
       "    }\n",
       "\n",
       "    .dataframe tbody tr th {\n",
       "        vertical-align: top;\n",
       "    }\n",
       "\n",
       "    .dataframe thead th {\n",
       "        text-align: right;\n",
       "    }\n",
       "</style>\n",
       "<table border=\"1\" class=\"dataframe\">\n",
       "  <thead>\n",
       "    <tr style=\"text-align: right;\">\n",
       "      <th></th>\n",
       "      <th>TransactionID</th>\n",
       "      <th>CustomerID</th>\n",
       "      <th>CustomerDOB</th>\n",
       "      <th>CustGender</th>\n",
       "      <th>CustLocation</th>\n",
       "      <th>CustAccountBalance</th>\n",
       "      <th>TransactionDate</th>\n",
       "      <th>TransactionTime</th>\n",
       "      <th>TransactionAmount (INR)</th>\n",
       "    </tr>\n",
       "  </thead>\n",
       "  <tbody>\n",
       "    <tr>\n",
       "      <th>0</th>\n",
       "      <td>T1</td>\n",
       "      <td>C5841053</td>\n",
       "      <td>10/1/94</td>\n",
       "      <td>F</td>\n",
       "      <td>JAMSHEDPUR</td>\n",
       "      <td>17819.05</td>\n",
       "      <td>2/8/16</td>\n",
       "      <td>143207</td>\n",
       "      <td>25.0</td>\n",
       "    </tr>\n",
       "    <tr>\n",
       "      <th>1</th>\n",
       "      <td>T2</td>\n",
       "      <td>C2142763</td>\n",
       "      <td>4/4/57</td>\n",
       "      <td>M</td>\n",
       "      <td>JHAJJAR</td>\n",
       "      <td>2270.69</td>\n",
       "      <td>2/8/16</td>\n",
       "      <td>141858</td>\n",
       "      <td>27999.0</td>\n",
       "    </tr>\n",
       "    <tr>\n",
       "      <th>2</th>\n",
       "      <td>T3</td>\n",
       "      <td>C4417068</td>\n",
       "      <td>26/11/96</td>\n",
       "      <td>F</td>\n",
       "      <td>MUMBAI</td>\n",
       "      <td>17874.44</td>\n",
       "      <td>2/8/16</td>\n",
       "      <td>142712</td>\n",
       "      <td>459.0</td>\n",
       "    </tr>\n",
       "    <tr>\n",
       "      <th>3</th>\n",
       "      <td>T4</td>\n",
       "      <td>C5342380</td>\n",
       "      <td>14/9/73</td>\n",
       "      <td>F</td>\n",
       "      <td>MUMBAI</td>\n",
       "      <td>866503.21</td>\n",
       "      <td>2/8/16</td>\n",
       "      <td>142714</td>\n",
       "      <td>2060.0</td>\n",
       "    </tr>\n",
       "    <tr>\n",
       "      <th>4</th>\n",
       "      <td>T5</td>\n",
       "      <td>C9031234</td>\n",
       "      <td>24/3/88</td>\n",
       "      <td>F</td>\n",
       "      <td>NAVI MUMBAI</td>\n",
       "      <td>6714.43</td>\n",
       "      <td>2/8/16</td>\n",
       "      <td>181156</td>\n",
       "      <td>1762.5</td>\n",
       "    </tr>\n",
       "  </tbody>\n",
       "</table>\n",
       "</div>"
      ],
      "text/plain": [
       "  TransactionID CustomerID CustomerDOB CustGender CustLocation  \\\n",
       "0            T1   C5841053     10/1/94          F   JAMSHEDPUR   \n",
       "1            T2   C2142763      4/4/57          M      JHAJJAR   \n",
       "2            T3   C4417068    26/11/96          F       MUMBAI   \n",
       "3            T4   C5342380     14/9/73          F       MUMBAI   \n",
       "4            T5   C9031234     24/3/88          F  NAVI MUMBAI   \n",
       "\n",
       "   CustAccountBalance TransactionDate  TransactionTime  \\\n",
       "0            17819.05          2/8/16           143207   \n",
       "1             2270.69          2/8/16           141858   \n",
       "2            17874.44          2/8/16           142712   \n",
       "3           866503.21          2/8/16           142714   \n",
       "4             6714.43          2/8/16           181156   \n",
       "\n",
       "   TransactionAmount (INR)  \n",
       "0                     25.0  \n",
       "1                  27999.0  \n",
       "2                    459.0  \n",
       "3                   2060.0  \n",
       "4                   1762.5  "
      ]
     },
     "execution_count": 2,
     "metadata": {},
     "output_type": "execute_result"
    }
   ],
   "source": [
    "df=pd.read_csv(\"/kaggle/input/bank-customer-segmentation/bank_transactions.csv\")\n",
    "df.head()"
   ]
  },
  {
   "cell_type": "markdown",
   "id": "936e1e32",
   "metadata": {
    "papermill": {
     "duration": 0.015769,
     "end_time": "2024-01-04T21:20:08.117881",
     "exception": false,
     "start_time": "2024-01-04T21:20:08.102112",
     "status": "completed"
    },
    "tags": []
   },
   "source": [
    "Dropping useless columns"
   ]
  },
  {
   "cell_type": "code",
   "execution_count": 3,
   "id": "7d8cb465",
   "metadata": {
    "execution": {
     "iopub.execute_input": "2024-01-04T21:20:08.150112Z",
     "iopub.status.busy": "2024-01-04T21:20:08.149684Z",
     "iopub.status.idle": "2024-01-04T21:20:08.383828Z",
     "shell.execute_reply": "2024-01-04T21:20:08.382458Z"
    },
    "papermill": {
     "duration": 0.254273,
     "end_time": "2024-01-04T21:20:08.387132",
     "exception": false,
     "start_time": "2024-01-04T21:20:08.132859",
     "status": "completed"
    },
    "tags": []
   },
   "outputs": [],
   "source": [
    "df=df.drop(\"CustLocation\",axis=1)\n",
    "df=df.drop('TransactionID',axis=1)"
   ]
  },
  {
   "cell_type": "code",
   "execution_count": 4,
   "id": "ed53a2d5",
   "metadata": {
    "execution": {
     "iopub.execute_input": "2024-01-04T21:20:08.418763Z",
     "iopub.status.busy": "2024-01-04T21:20:08.418314Z",
     "iopub.status.idle": "2024-01-04T21:20:08.441066Z",
     "shell.execute_reply": "2024-01-04T21:20:08.440069Z"
    },
    "papermill": {
     "duration": 0.041667,
     "end_time": "2024-01-04T21:20:08.443583",
     "exception": false,
     "start_time": "2024-01-04T21:20:08.401916",
     "status": "completed"
    },
    "tags": []
   },
   "outputs": [
    {
     "data": {
      "text/html": [
       "<div>\n",
       "<style scoped>\n",
       "    .dataframe tbody tr th:only-of-type {\n",
       "        vertical-align: middle;\n",
       "    }\n",
       "\n",
       "    .dataframe tbody tr th {\n",
       "        vertical-align: top;\n",
       "    }\n",
       "\n",
       "    .dataframe thead th {\n",
       "        text-align: right;\n",
       "    }\n",
       "</style>\n",
       "<table border=\"1\" class=\"dataframe\">\n",
       "  <thead>\n",
       "    <tr style=\"text-align: right;\">\n",
       "      <th></th>\n",
       "      <th>CustomerID</th>\n",
       "      <th>CustomerDOB</th>\n",
       "      <th>CustGender</th>\n",
       "      <th>CustAccountBalance</th>\n",
       "      <th>TransactionDate</th>\n",
       "      <th>TransactionTime</th>\n",
       "      <th>TransactionAmount (INR)</th>\n",
       "    </tr>\n",
       "  </thead>\n",
       "  <tbody>\n",
       "    <tr>\n",
       "      <th>0</th>\n",
       "      <td>C5841053</td>\n",
       "      <td>10/1/94</td>\n",
       "      <td>F</td>\n",
       "      <td>17819.05</td>\n",
       "      <td>2/8/16</td>\n",
       "      <td>143207</td>\n",
       "      <td>25.0</td>\n",
       "    </tr>\n",
       "    <tr>\n",
       "      <th>1</th>\n",
       "      <td>C2142763</td>\n",
       "      <td>4/4/57</td>\n",
       "      <td>M</td>\n",
       "      <td>2270.69</td>\n",
       "      <td>2/8/16</td>\n",
       "      <td>141858</td>\n",
       "      <td>27999.0</td>\n",
       "    </tr>\n",
       "    <tr>\n",
       "      <th>2</th>\n",
       "      <td>C4417068</td>\n",
       "      <td>26/11/96</td>\n",
       "      <td>F</td>\n",
       "      <td>17874.44</td>\n",
       "      <td>2/8/16</td>\n",
       "      <td>142712</td>\n",
       "      <td>459.0</td>\n",
       "    </tr>\n",
       "    <tr>\n",
       "      <th>3</th>\n",
       "      <td>C5342380</td>\n",
       "      <td>14/9/73</td>\n",
       "      <td>F</td>\n",
       "      <td>866503.21</td>\n",
       "      <td>2/8/16</td>\n",
       "      <td>142714</td>\n",
       "      <td>2060.0</td>\n",
       "    </tr>\n",
       "    <tr>\n",
       "      <th>4</th>\n",
       "      <td>C9031234</td>\n",
       "      <td>24/3/88</td>\n",
       "      <td>F</td>\n",
       "      <td>6714.43</td>\n",
       "      <td>2/8/16</td>\n",
       "      <td>181156</td>\n",
       "      <td>1762.5</td>\n",
       "    </tr>\n",
       "    <tr>\n",
       "      <th>...</th>\n",
       "      <td>...</td>\n",
       "      <td>...</td>\n",
       "      <td>...</td>\n",
       "      <td>...</td>\n",
       "      <td>...</td>\n",
       "      <td>...</td>\n",
       "      <td>...</td>\n",
       "    </tr>\n",
       "    <tr>\n",
       "      <th>1048562</th>\n",
       "      <td>C8020229</td>\n",
       "      <td>8/4/90</td>\n",
       "      <td>M</td>\n",
       "      <td>7635.19</td>\n",
       "      <td>18/9/16</td>\n",
       "      <td>184824</td>\n",
       "      <td>799.0</td>\n",
       "    </tr>\n",
       "    <tr>\n",
       "      <th>1048563</th>\n",
       "      <td>C6459278</td>\n",
       "      <td>20/2/92</td>\n",
       "      <td>M</td>\n",
       "      <td>27311.42</td>\n",
       "      <td>18/9/16</td>\n",
       "      <td>183734</td>\n",
       "      <td>460.0</td>\n",
       "    </tr>\n",
       "    <tr>\n",
       "      <th>1048564</th>\n",
       "      <td>C6412354</td>\n",
       "      <td>18/5/89</td>\n",
       "      <td>M</td>\n",
       "      <td>221757.06</td>\n",
       "      <td>18/9/16</td>\n",
       "      <td>183313</td>\n",
       "      <td>770.0</td>\n",
       "    </tr>\n",
       "    <tr>\n",
       "      <th>1048565</th>\n",
       "      <td>C6420483</td>\n",
       "      <td>30/8/78</td>\n",
       "      <td>M</td>\n",
       "      <td>10117.87</td>\n",
       "      <td>18/9/16</td>\n",
       "      <td>184706</td>\n",
       "      <td>1000.0</td>\n",
       "    </tr>\n",
       "    <tr>\n",
       "      <th>1048566</th>\n",
       "      <td>C8337524</td>\n",
       "      <td>5/3/84</td>\n",
       "      <td>M</td>\n",
       "      <td>75734.42</td>\n",
       "      <td>18/9/16</td>\n",
       "      <td>181222</td>\n",
       "      <td>1166.0</td>\n",
       "    </tr>\n",
       "  </tbody>\n",
       "</table>\n",
       "<p>1048567 rows × 7 columns</p>\n",
       "</div>"
      ],
      "text/plain": [
       "        CustomerID CustomerDOB CustGender  CustAccountBalance TransactionDate  \\\n",
       "0         C5841053     10/1/94          F            17819.05          2/8/16   \n",
       "1         C2142763      4/4/57          M             2270.69          2/8/16   \n",
       "2         C4417068    26/11/96          F            17874.44          2/8/16   \n",
       "3         C5342380     14/9/73          F           866503.21          2/8/16   \n",
       "4         C9031234     24/3/88          F             6714.43          2/8/16   \n",
       "...            ...         ...        ...                 ...             ...   \n",
       "1048562   C8020229      8/4/90          M             7635.19         18/9/16   \n",
       "1048563   C6459278     20/2/92          M            27311.42         18/9/16   \n",
       "1048564   C6412354     18/5/89          M           221757.06         18/9/16   \n",
       "1048565   C6420483     30/8/78          M            10117.87         18/9/16   \n",
       "1048566   C8337524      5/3/84          M            75734.42         18/9/16   \n",
       "\n",
       "         TransactionTime  TransactionAmount (INR)  \n",
       "0                 143207                     25.0  \n",
       "1                 141858                  27999.0  \n",
       "2                 142712                    459.0  \n",
       "3                 142714                   2060.0  \n",
       "4                 181156                   1762.5  \n",
       "...                  ...                      ...  \n",
       "1048562           184824                    799.0  \n",
       "1048563           183734                    460.0  \n",
       "1048564           183313                    770.0  \n",
       "1048565           184706                   1000.0  \n",
       "1048566           181222                   1166.0  \n",
       "\n",
       "[1048567 rows x 7 columns]"
      ]
     },
     "execution_count": 4,
     "metadata": {},
     "output_type": "execute_result"
    }
   ],
   "source": [
    "df"
   ]
  },
  {
   "cell_type": "markdown",
   "id": "3eb70a6d",
   "metadata": {
    "papermill": {
     "duration": 0.014401,
     "end_time": "2024-01-04T21:20:08.472681",
     "exception": false,
     "start_time": "2024-01-04T21:20:08.458280",
     "status": "completed"
    },
    "tags": []
   },
   "source": [
    "Cleaning overall - dropping duplicates and nulls"
   ]
  },
  {
   "cell_type": "code",
   "execution_count": 5,
   "id": "773a8cba",
   "metadata": {
    "execution": {
     "iopub.execute_input": "2024-01-04T21:20:08.504372Z",
     "iopub.status.busy": "2024-01-04T21:20:08.503755Z",
     "iopub.status.idle": "2024-01-04T21:20:09.108253Z",
     "shell.execute_reply": "2024-01-04T21:20:09.106436Z"
    },
    "papermill": {
     "duration": 0.624146,
     "end_time": "2024-01-04T21:20:09.111254",
     "exception": false,
     "start_time": "2024-01-04T21:20:08.487108",
     "status": "completed"
    },
    "tags": []
   },
   "outputs": [],
   "source": [
    "df.dropna(inplace=True)"
   ]
  },
  {
   "cell_type": "code",
   "execution_count": 6,
   "id": "31cc2c80",
   "metadata": {
    "execution": {
     "iopub.execute_input": "2024-01-04T21:20:09.143209Z",
     "iopub.status.busy": "2024-01-04T21:20:09.142347Z",
     "iopub.status.idle": "2024-01-04T21:20:09.166669Z",
     "shell.execute_reply": "2024-01-04T21:20:09.165684Z"
    },
    "papermill": {
     "duration": 0.043322,
     "end_time": "2024-01-04T21:20:09.169201",
     "exception": false,
     "start_time": "2024-01-04T21:20:09.125879",
     "status": "completed"
    },
    "tags": []
   },
   "outputs": [
    {
     "data": {
      "text/html": [
       "<div>\n",
       "<style scoped>\n",
       "    .dataframe tbody tr th:only-of-type {\n",
       "        vertical-align: middle;\n",
       "    }\n",
       "\n",
       "    .dataframe tbody tr th {\n",
       "        vertical-align: top;\n",
       "    }\n",
       "\n",
       "    .dataframe thead th {\n",
       "        text-align: right;\n",
       "    }\n",
       "</style>\n",
       "<table border=\"1\" class=\"dataframe\">\n",
       "  <thead>\n",
       "    <tr style=\"text-align: right;\">\n",
       "      <th></th>\n",
       "      <th>CustomerID</th>\n",
       "      <th>CustomerDOB</th>\n",
       "      <th>CustGender</th>\n",
       "      <th>CustAccountBalance</th>\n",
       "      <th>TransactionDate</th>\n",
       "      <th>TransactionTime</th>\n",
       "      <th>TransactionAmount (INR)</th>\n",
       "    </tr>\n",
       "  </thead>\n",
       "  <tbody>\n",
       "    <tr>\n",
       "      <th>0</th>\n",
       "      <td>C5841053</td>\n",
       "      <td>10/1/94</td>\n",
       "      <td>F</td>\n",
       "      <td>17819.05</td>\n",
       "      <td>2/8/16</td>\n",
       "      <td>143207</td>\n",
       "      <td>25.0</td>\n",
       "    </tr>\n",
       "    <tr>\n",
       "      <th>1</th>\n",
       "      <td>C2142763</td>\n",
       "      <td>4/4/57</td>\n",
       "      <td>M</td>\n",
       "      <td>2270.69</td>\n",
       "      <td>2/8/16</td>\n",
       "      <td>141858</td>\n",
       "      <td>27999.0</td>\n",
       "    </tr>\n",
       "    <tr>\n",
       "      <th>2</th>\n",
       "      <td>C4417068</td>\n",
       "      <td>26/11/96</td>\n",
       "      <td>F</td>\n",
       "      <td>17874.44</td>\n",
       "      <td>2/8/16</td>\n",
       "      <td>142712</td>\n",
       "      <td>459.0</td>\n",
       "    </tr>\n",
       "    <tr>\n",
       "      <th>3</th>\n",
       "      <td>C5342380</td>\n",
       "      <td>14/9/73</td>\n",
       "      <td>F</td>\n",
       "      <td>866503.21</td>\n",
       "      <td>2/8/16</td>\n",
       "      <td>142714</td>\n",
       "      <td>2060.0</td>\n",
       "    </tr>\n",
       "    <tr>\n",
       "      <th>4</th>\n",
       "      <td>C9031234</td>\n",
       "      <td>24/3/88</td>\n",
       "      <td>F</td>\n",
       "      <td>6714.43</td>\n",
       "      <td>2/8/16</td>\n",
       "      <td>181156</td>\n",
       "      <td>1762.5</td>\n",
       "    </tr>\n",
       "    <tr>\n",
       "      <th>...</th>\n",
       "      <td>...</td>\n",
       "      <td>...</td>\n",
       "      <td>...</td>\n",
       "      <td>...</td>\n",
       "      <td>...</td>\n",
       "      <td>...</td>\n",
       "      <td>...</td>\n",
       "    </tr>\n",
       "    <tr>\n",
       "      <th>1048562</th>\n",
       "      <td>C8020229</td>\n",
       "      <td>8/4/90</td>\n",
       "      <td>M</td>\n",
       "      <td>7635.19</td>\n",
       "      <td>18/9/16</td>\n",
       "      <td>184824</td>\n",
       "      <td>799.0</td>\n",
       "    </tr>\n",
       "    <tr>\n",
       "      <th>1048563</th>\n",
       "      <td>C6459278</td>\n",
       "      <td>20/2/92</td>\n",
       "      <td>M</td>\n",
       "      <td>27311.42</td>\n",
       "      <td>18/9/16</td>\n",
       "      <td>183734</td>\n",
       "      <td>460.0</td>\n",
       "    </tr>\n",
       "    <tr>\n",
       "      <th>1048564</th>\n",
       "      <td>C6412354</td>\n",
       "      <td>18/5/89</td>\n",
       "      <td>M</td>\n",
       "      <td>221757.06</td>\n",
       "      <td>18/9/16</td>\n",
       "      <td>183313</td>\n",
       "      <td>770.0</td>\n",
       "    </tr>\n",
       "    <tr>\n",
       "      <th>1048565</th>\n",
       "      <td>C6420483</td>\n",
       "      <td>30/8/78</td>\n",
       "      <td>M</td>\n",
       "      <td>10117.87</td>\n",
       "      <td>18/9/16</td>\n",
       "      <td>184706</td>\n",
       "      <td>1000.0</td>\n",
       "    </tr>\n",
       "    <tr>\n",
       "      <th>1048566</th>\n",
       "      <td>C8337524</td>\n",
       "      <td>5/3/84</td>\n",
       "      <td>M</td>\n",
       "      <td>75734.42</td>\n",
       "      <td>18/9/16</td>\n",
       "      <td>181222</td>\n",
       "      <td>1166.0</td>\n",
       "    </tr>\n",
       "  </tbody>\n",
       "</table>\n",
       "<p>1041765 rows × 7 columns</p>\n",
       "</div>"
      ],
      "text/plain": [
       "        CustomerID CustomerDOB CustGender  CustAccountBalance TransactionDate  \\\n",
       "0         C5841053     10/1/94          F            17819.05          2/8/16   \n",
       "1         C2142763      4/4/57          M             2270.69          2/8/16   \n",
       "2         C4417068    26/11/96          F            17874.44          2/8/16   \n",
       "3         C5342380     14/9/73          F           866503.21          2/8/16   \n",
       "4         C9031234     24/3/88          F             6714.43          2/8/16   \n",
       "...            ...         ...        ...                 ...             ...   \n",
       "1048562   C8020229      8/4/90          M             7635.19         18/9/16   \n",
       "1048563   C6459278     20/2/92          M            27311.42         18/9/16   \n",
       "1048564   C6412354     18/5/89          M           221757.06         18/9/16   \n",
       "1048565   C6420483     30/8/78          M            10117.87         18/9/16   \n",
       "1048566   C8337524      5/3/84          M            75734.42         18/9/16   \n",
       "\n",
       "         TransactionTime  TransactionAmount (INR)  \n",
       "0                 143207                     25.0  \n",
       "1                 141858                  27999.0  \n",
       "2                 142712                    459.0  \n",
       "3                 142714                   2060.0  \n",
       "4                 181156                   1762.5  \n",
       "...                  ...                      ...  \n",
       "1048562           184824                    799.0  \n",
       "1048563           183734                    460.0  \n",
       "1048564           183313                    770.0  \n",
       "1048565           184706                   1000.0  \n",
       "1048566           181222                   1166.0  \n",
       "\n",
       "[1041765 rows x 7 columns]"
      ]
     },
     "execution_count": 6,
     "metadata": {},
     "output_type": "execute_result"
    }
   ],
   "source": [
    "df"
   ]
  },
  {
   "cell_type": "markdown",
   "id": "c7fbf304",
   "metadata": {
    "papermill": {
     "duration": 0.014944,
     "end_time": "2024-01-04T21:20:09.199996",
     "exception": false,
     "start_time": "2024-01-04T21:20:09.185052",
     "status": "completed"
    },
    "tags": []
   },
   "source": [
    "Cleaning age"
   ]
  },
  {
   "cell_type": "code",
   "execution_count": 7,
   "id": "01199fa7",
   "metadata": {
    "execution": {
     "iopub.execute_input": "2024-01-04T21:20:09.233655Z",
     "iopub.status.busy": "2024-01-04T21:20:09.232290Z",
     "iopub.status.idle": "2024-01-04T21:20:09.238830Z",
     "shell.execute_reply": "2024-01-04T21:20:09.237911Z"
    },
    "papermill": {
     "duration": 0.026139,
     "end_time": "2024-01-04T21:20:09.241462",
     "exception": false,
     "start_time": "2024-01-04T21:20:09.215323",
     "status": "completed"
    },
    "tags": []
   },
   "outputs": [],
   "source": [
    "age=[]"
   ]
  },
  {
   "cell_type": "code",
   "execution_count": 8,
   "id": "632dd568",
   "metadata": {
    "execution": {
     "iopub.execute_input": "2024-01-04T21:20:09.275689Z",
     "iopub.status.busy": "2024-01-04T21:20:09.274419Z",
     "iopub.status.idle": "2024-01-04T21:20:09.281300Z",
     "shell.execute_reply": "2024-01-04T21:20:09.279842Z"
    },
    "papermill": {
     "duration": 0.027552,
     "end_time": "2024-01-04T21:20:09.284194",
     "exception": false,
     "start_time": "2024-01-04T21:20:09.256642",
     "status": "completed"
    },
    "tags": []
   },
   "outputs": [],
   "source": [
    "dob=df.iloc[:,1].values"
   ]
  },
  {
   "cell_type": "code",
   "execution_count": 9,
   "id": "e20f936c",
   "metadata": {
    "execution": {
     "iopub.execute_input": "2024-01-04T21:20:09.318583Z",
     "iopub.status.busy": "2024-01-04T21:20:09.318125Z",
     "iopub.status.idle": "2024-01-04T21:20:09.325777Z",
     "shell.execute_reply": "2024-01-04T21:20:09.324282Z"
    },
    "papermill": {
     "duration": 0.028788,
     "end_time": "2024-01-04T21:20:09.329172",
     "exception": false,
     "start_time": "2024-01-04T21:20:09.300384",
     "status": "completed"
    },
    "tags": []
   },
   "outputs": [],
   "source": [
    "def find_bad(date):\n",
    "    try:\n",
    "        year=date.split(\"/\")[-1]\n",
    "        if(int(year)>=100):\n",
    "            return date\n",
    "        \n",
    "    except:\n",
    "        pass\n",
    "    "
   ]
  },
  {
   "cell_type": "code",
   "execution_count": 10,
   "id": "24397b93",
   "metadata": {
    "execution": {
     "iopub.execute_input": "2024-01-04T21:20:09.362174Z",
     "iopub.status.busy": "2024-01-04T21:20:09.361672Z",
     "iopub.status.idle": "2024-01-04T21:20:10.318830Z",
     "shell.execute_reply": "2024-01-04T21:20:10.317594Z"
    },
    "papermill": {
     "duration": 0.977697,
     "end_time": "2024-01-04T21:20:10.322111",
     "exception": false,
     "start_time": "2024-01-04T21:20:09.344414",
     "status": "completed"
    },
    "tags": []
   },
   "outputs": [],
   "source": [
    "#Finding bad or corrputed dates\n",
    "s=set()\n",
    "for i in dob:\n",
    "    x=find_bad(i)\n",
    "    if(x):\n",
    "        s.add(x)"
   ]
  },
  {
   "cell_type": "code",
   "execution_count": 11,
   "id": "f63ee2d8",
   "metadata": {
    "execution": {
     "iopub.execute_input": "2024-01-04T21:20:10.354680Z",
     "iopub.status.busy": "2024-01-04T21:20:10.354226Z",
     "iopub.status.idle": "2024-01-04T21:20:10.362522Z",
     "shell.execute_reply": "2024-01-04T21:20:10.361129Z"
    },
    "papermill": {
     "duration": 0.027724,
     "end_time": "2024-01-04T21:20:10.364998",
     "exception": false,
     "start_time": "2024-01-04T21:20:10.337274",
     "status": "completed"
    },
    "tags": []
   },
   "outputs": [
    {
     "data": {
      "text/plain": [
       "{'1/1/1800'}"
      ]
     },
     "execution_count": 11,
     "metadata": {},
     "output_type": "execute_result"
    }
   ],
   "source": [
    "s"
   ]
  },
  {
   "cell_type": "code",
   "execution_count": 12,
   "id": "ba2c269b",
   "metadata": {
    "execution": {
     "iopub.execute_input": "2024-01-04T21:20:10.397213Z",
     "iopub.status.busy": "2024-01-04T21:20:10.396802Z",
     "iopub.status.idle": "2024-01-04T21:20:10.781272Z",
     "shell.execute_reply": "2024-01-04T21:20:10.779708Z"
    },
    "papermill": {
     "duration": 0.404054,
     "end_time": "2024-01-04T21:20:10.784426",
     "exception": false,
     "start_time": "2024-01-04T21:20:10.380372",
     "status": "completed"
    },
    "tags": []
   },
   "outputs": [],
   "source": [
    "df = df.drop(df[df['CustomerDOB'] == '1/1/1800'].index)"
   ]
  },
  {
   "cell_type": "code",
   "execution_count": 13,
   "id": "635c32fa",
   "metadata": {
    "execution": {
     "iopub.execute_input": "2024-01-04T21:20:10.817876Z",
     "iopub.status.busy": "2024-01-04T21:20:10.817240Z",
     "iopub.status.idle": "2024-01-04T21:20:10.824312Z",
     "shell.execute_reply": "2024-01-04T21:20:10.822891Z"
    },
    "papermill": {
     "duration": 0.026866,
     "end_time": "2024-01-04T21:20:10.826863",
     "exception": false,
     "start_time": "2024-01-04T21:20:10.799997",
     "status": "completed"
    },
    "tags": []
   },
   "outputs": [],
   "source": [
    "def find_age(date):\n",
    "    year=date.split(\"/\")[-1]\n",
    "    return int(year)"
   ]
  },
  {
   "cell_type": "code",
   "execution_count": 14,
   "id": "65d3a747",
   "metadata": {
    "execution": {
     "iopub.execute_input": "2024-01-04T21:20:10.859935Z",
     "iopub.status.busy": "2024-01-04T21:20:10.859420Z",
     "iopub.status.idle": "2024-01-04T21:20:23.729576Z",
     "shell.execute_reply": "2024-01-04T21:20:23.728227Z"
    },
    "papermill": {
     "duration": 12.890903,
     "end_time": "2024-01-04T21:20:23.732803",
     "exception": false,
     "start_time": "2024-01-04T21:20:10.841900",
     "status": "completed"
    },
    "tags": []
   },
   "outputs": [],
   "source": [
    "dob=df.iloc[:,1].iloc\n",
    "minn=100\n",
    "for i in dob:\n",
    "    minn=min(minn,find_age(i))"
   ]
  },
  {
   "cell_type": "code",
   "execution_count": 15,
   "id": "17d2ae51",
   "metadata": {
    "execution": {
     "iopub.execute_input": "2024-01-04T21:20:23.769669Z",
     "iopub.status.busy": "2024-01-04T21:20:23.769175Z",
     "iopub.status.idle": "2024-01-04T21:20:23.776952Z",
     "shell.execute_reply": "2024-01-04T21:20:23.775592Z"
    },
    "papermill": {
     "duration": 0.030555,
     "end_time": "2024-01-04T21:20:23.779993",
     "exception": false,
     "start_time": "2024-01-04T21:20:23.749438",
     "status": "completed"
    },
    "tags": []
   },
   "outputs": [
    {
     "data": {
      "text/plain": [
       "0"
      ]
     },
     "execution_count": 15,
     "metadata": {},
     "output_type": "execute_result"
    }
   ],
   "source": [
    "minn"
   ]
  },
  {
   "cell_type": "markdown",
   "id": "eb527a23",
   "metadata": {
    "papermill": {
     "duration": 0.016461,
     "end_time": "2024-01-04T21:20:23.912042",
     "exception": false,
     "start_time": "2024-01-04T21:20:23.895581",
     "status": "completed"
    },
    "tags": []
   },
   "source": [
    "Assuming the data is from 1900->1999 as this data was produced on 2016 and minors are not allowed for transactions"
   ]
  },
  {
   "cell_type": "code",
   "execution_count": 16,
   "id": "1cd99def",
   "metadata": {
    "execution": {
     "iopub.execute_input": "2024-01-04T21:20:23.946979Z",
     "iopub.status.busy": "2024-01-04T21:20:23.946273Z",
     "iopub.status.idle": "2024-01-04T21:20:23.954150Z",
     "shell.execute_reply": "2024-01-04T21:20:23.952431Z"
    },
    "papermill": {
     "duration": 0.028405,
     "end_time": "2024-01-04T21:20:23.957113",
     "exception": false,
     "start_time": "2024-01-04T21:20:23.928708",
     "status": "completed"
    },
    "tags": []
   },
   "outputs": [],
   "source": [
    "def convert(date):\n",
    "    year=date.split(\"/\")[-1]\n",
    "    year=\"19\"+year\n",
    "    return (2016-int(year))"
   ]
  },
  {
   "cell_type": "code",
   "execution_count": 17,
   "id": "ad1a22ae",
   "metadata": {
    "execution": {
     "iopub.execute_input": "2024-01-04T21:20:23.994521Z",
     "iopub.status.busy": "2024-01-04T21:20:23.994053Z",
     "iopub.status.idle": "2024-01-04T21:20:36.868818Z",
     "shell.execute_reply": "2024-01-04T21:20:36.867568Z"
    },
    "papermill": {
     "duration": 12.898269,
     "end_time": "2024-01-04T21:20:36.872212",
     "exception": false,
     "start_time": "2024-01-04T21:20:23.973943",
     "status": "completed"
    },
    "tags": []
   },
   "outputs": [],
   "source": [
    "for i in dob:\n",
    "    age.append(convert(i))"
   ]
  },
  {
   "cell_type": "code",
   "execution_count": 18,
   "id": "5a5a4971",
   "metadata": {
    "execution": {
     "iopub.execute_input": "2024-01-04T21:20:36.905866Z",
     "iopub.status.busy": "2024-01-04T21:20:36.905451Z",
     "iopub.status.idle": "2024-01-04T21:20:37.450017Z",
     "shell.execute_reply": "2024-01-04T21:20:37.448623Z"
    },
    "papermill": {
     "duration": 0.565688,
     "end_time": "2024-01-04T21:20:37.453652",
     "exception": false,
     "start_time": "2024-01-04T21:20:36.887964",
     "status": "completed"
    },
    "tags": []
   },
   "outputs": [],
   "source": [
    "df[\"age\"]=age"
   ]
  },
  {
   "cell_type": "code",
   "execution_count": 19,
   "id": "d99e04a7",
   "metadata": {
    "execution": {
     "iopub.execute_input": "2024-01-04T21:20:37.487413Z",
     "iopub.status.busy": "2024-01-04T21:20:37.487002Z",
     "iopub.status.idle": "2024-01-04T21:20:37.510002Z",
     "shell.execute_reply": "2024-01-04T21:20:37.508620Z"
    },
    "papermill": {
     "duration": 0.043153,
     "end_time": "2024-01-04T21:20:37.512735",
     "exception": false,
     "start_time": "2024-01-04T21:20:37.469582",
     "status": "completed"
    },
    "tags": []
   },
   "outputs": [
    {
     "data": {
      "text/html": [
       "<div>\n",
       "<style scoped>\n",
       "    .dataframe tbody tr th:only-of-type {\n",
       "        vertical-align: middle;\n",
       "    }\n",
       "\n",
       "    .dataframe tbody tr th {\n",
       "        vertical-align: top;\n",
       "    }\n",
       "\n",
       "    .dataframe thead th {\n",
       "        text-align: right;\n",
       "    }\n",
       "</style>\n",
       "<table border=\"1\" class=\"dataframe\">\n",
       "  <thead>\n",
       "    <tr style=\"text-align: right;\">\n",
       "      <th></th>\n",
       "      <th>CustomerID</th>\n",
       "      <th>CustomerDOB</th>\n",
       "      <th>CustGender</th>\n",
       "      <th>CustAccountBalance</th>\n",
       "      <th>TransactionDate</th>\n",
       "      <th>TransactionTime</th>\n",
       "      <th>TransactionAmount (INR)</th>\n",
       "      <th>age</th>\n",
       "    </tr>\n",
       "  </thead>\n",
       "  <tbody>\n",
       "    <tr>\n",
       "      <th>0</th>\n",
       "      <td>C5841053</td>\n",
       "      <td>10/1/94</td>\n",
       "      <td>F</td>\n",
       "      <td>17819.05</td>\n",
       "      <td>2/8/16</td>\n",
       "      <td>143207</td>\n",
       "      <td>25.0</td>\n",
       "      <td>22</td>\n",
       "    </tr>\n",
       "    <tr>\n",
       "      <th>1</th>\n",
       "      <td>C2142763</td>\n",
       "      <td>4/4/57</td>\n",
       "      <td>M</td>\n",
       "      <td>2270.69</td>\n",
       "      <td>2/8/16</td>\n",
       "      <td>141858</td>\n",
       "      <td>27999.0</td>\n",
       "      <td>59</td>\n",
       "    </tr>\n",
       "    <tr>\n",
       "      <th>2</th>\n",
       "      <td>C4417068</td>\n",
       "      <td>26/11/96</td>\n",
       "      <td>F</td>\n",
       "      <td>17874.44</td>\n",
       "      <td>2/8/16</td>\n",
       "      <td>142712</td>\n",
       "      <td>459.0</td>\n",
       "      <td>20</td>\n",
       "    </tr>\n",
       "    <tr>\n",
       "      <th>3</th>\n",
       "      <td>C5342380</td>\n",
       "      <td>14/9/73</td>\n",
       "      <td>F</td>\n",
       "      <td>866503.21</td>\n",
       "      <td>2/8/16</td>\n",
       "      <td>142714</td>\n",
       "      <td>2060.0</td>\n",
       "      <td>43</td>\n",
       "    </tr>\n",
       "    <tr>\n",
       "      <th>4</th>\n",
       "      <td>C9031234</td>\n",
       "      <td>24/3/88</td>\n",
       "      <td>F</td>\n",
       "      <td>6714.43</td>\n",
       "      <td>2/8/16</td>\n",
       "      <td>181156</td>\n",
       "      <td>1762.5</td>\n",
       "      <td>28</td>\n",
       "    </tr>\n",
       "    <tr>\n",
       "      <th>...</th>\n",
       "      <td>...</td>\n",
       "      <td>...</td>\n",
       "      <td>...</td>\n",
       "      <td>...</td>\n",
       "      <td>...</td>\n",
       "      <td>...</td>\n",
       "      <td>...</td>\n",
       "      <td>...</td>\n",
       "    </tr>\n",
       "    <tr>\n",
       "      <th>1048562</th>\n",
       "      <td>C8020229</td>\n",
       "      <td>8/4/90</td>\n",
       "      <td>M</td>\n",
       "      <td>7635.19</td>\n",
       "      <td>18/9/16</td>\n",
       "      <td>184824</td>\n",
       "      <td>799.0</td>\n",
       "      <td>26</td>\n",
       "    </tr>\n",
       "    <tr>\n",
       "      <th>1048563</th>\n",
       "      <td>C6459278</td>\n",
       "      <td>20/2/92</td>\n",
       "      <td>M</td>\n",
       "      <td>27311.42</td>\n",
       "      <td>18/9/16</td>\n",
       "      <td>183734</td>\n",
       "      <td>460.0</td>\n",
       "      <td>24</td>\n",
       "    </tr>\n",
       "    <tr>\n",
       "      <th>1048564</th>\n",
       "      <td>C6412354</td>\n",
       "      <td>18/5/89</td>\n",
       "      <td>M</td>\n",
       "      <td>221757.06</td>\n",
       "      <td>18/9/16</td>\n",
       "      <td>183313</td>\n",
       "      <td>770.0</td>\n",
       "      <td>27</td>\n",
       "    </tr>\n",
       "    <tr>\n",
       "      <th>1048565</th>\n",
       "      <td>C6420483</td>\n",
       "      <td>30/8/78</td>\n",
       "      <td>M</td>\n",
       "      <td>10117.87</td>\n",
       "      <td>18/9/16</td>\n",
       "      <td>184706</td>\n",
       "      <td>1000.0</td>\n",
       "      <td>38</td>\n",
       "    </tr>\n",
       "    <tr>\n",
       "      <th>1048566</th>\n",
       "      <td>C8337524</td>\n",
       "      <td>5/3/84</td>\n",
       "      <td>M</td>\n",
       "      <td>75734.42</td>\n",
       "      <td>18/9/16</td>\n",
       "      <td>181222</td>\n",
       "      <td>1166.0</td>\n",
       "      <td>32</td>\n",
       "    </tr>\n",
       "  </tbody>\n",
       "</table>\n",
       "<p>985473 rows × 8 columns</p>\n",
       "</div>"
      ],
      "text/plain": [
       "        CustomerID CustomerDOB CustGender  CustAccountBalance TransactionDate  \\\n",
       "0         C5841053     10/1/94          F            17819.05          2/8/16   \n",
       "1         C2142763      4/4/57          M             2270.69          2/8/16   \n",
       "2         C4417068    26/11/96          F            17874.44          2/8/16   \n",
       "3         C5342380     14/9/73          F           866503.21          2/8/16   \n",
       "4         C9031234     24/3/88          F             6714.43          2/8/16   \n",
       "...            ...         ...        ...                 ...             ...   \n",
       "1048562   C8020229      8/4/90          M             7635.19         18/9/16   \n",
       "1048563   C6459278     20/2/92          M            27311.42         18/9/16   \n",
       "1048564   C6412354     18/5/89          M           221757.06         18/9/16   \n",
       "1048565   C6420483     30/8/78          M            10117.87         18/9/16   \n",
       "1048566   C8337524      5/3/84          M            75734.42         18/9/16   \n",
       "\n",
       "         TransactionTime  TransactionAmount (INR)  age  \n",
       "0                 143207                     25.0   22  \n",
       "1                 141858                  27999.0   59  \n",
       "2                 142712                    459.0   20  \n",
       "3                 142714                   2060.0   43  \n",
       "4                 181156                   1762.5   28  \n",
       "...                  ...                      ...  ...  \n",
       "1048562           184824                    799.0   26  \n",
       "1048563           183734                    460.0   24  \n",
       "1048564           183313                    770.0   27  \n",
       "1048565           184706                   1000.0   38  \n",
       "1048566           181222                   1166.0   32  \n",
       "\n",
       "[985473 rows x 8 columns]"
      ]
     },
     "execution_count": 19,
     "metadata": {},
     "output_type": "execute_result"
    }
   ],
   "source": [
    "df"
   ]
  },
  {
   "cell_type": "markdown",
   "id": "99e7cb17",
   "metadata": {
    "papermill": {
     "duration": 0.016151,
     "end_time": "2024-01-04T21:20:37.544592",
     "exception": false,
     "start_time": "2024-01-04T21:20:37.528441",
     "status": "completed"
    },
    "tags": []
   },
   "source": [
    "# Customer details dataset"
   ]
  },
  {
   "cell_type": "code",
   "execution_count": 20,
   "id": "a1e0d245",
   "metadata": {
    "execution": {
     "iopub.execute_input": "2024-01-04T21:20:37.578925Z",
     "iopub.status.busy": "2024-01-04T21:20:37.577860Z",
     "iopub.status.idle": "2024-01-04T21:20:37.632951Z",
     "shell.execute_reply": "2024-01-04T21:20:37.631632Z"
    },
    "papermill": {
     "duration": 0.077094,
     "end_time": "2024-01-04T21:20:37.637520",
     "exception": false,
     "start_time": "2024-01-04T21:20:37.560426",
     "status": "completed"
    },
    "tags": []
   },
   "outputs": [],
   "source": [
    "customers=pd.DataFrame()\n",
    "customers[\"ID\"]=df.iloc[:,0].values\n",
    "customers[\"Age\"]=df.iloc[:,7].values\n",
    "customers[\"Gender\"]=df.iloc[:,2].values"
   ]
  },
  {
   "cell_type": "code",
   "execution_count": 21,
   "id": "f3e41c32",
   "metadata": {
    "execution": {
     "iopub.execute_input": "2024-01-04T21:20:37.675019Z",
     "iopub.status.busy": "2024-01-04T21:20:37.674594Z",
     "iopub.status.idle": "2024-01-04T21:20:37.694669Z",
     "shell.execute_reply": "2024-01-04T21:20:37.693669Z"
    },
    "papermill": {
     "duration": 0.040644,
     "end_time": "2024-01-04T21:20:37.697058",
     "exception": false,
     "start_time": "2024-01-04T21:20:37.656414",
     "status": "completed"
    },
    "tags": []
   },
   "outputs": [
    {
     "data": {
      "text/html": [
       "<div>\n",
       "<style scoped>\n",
       "    .dataframe tbody tr th:only-of-type {\n",
       "        vertical-align: middle;\n",
       "    }\n",
       "\n",
       "    .dataframe tbody tr th {\n",
       "        vertical-align: top;\n",
       "    }\n",
       "\n",
       "    .dataframe thead th {\n",
       "        text-align: right;\n",
       "    }\n",
       "</style>\n",
       "<table border=\"1\" class=\"dataframe\">\n",
       "  <thead>\n",
       "    <tr style=\"text-align: right;\">\n",
       "      <th></th>\n",
       "      <th>ID</th>\n",
       "      <th>Age</th>\n",
       "      <th>Gender</th>\n",
       "    </tr>\n",
       "  </thead>\n",
       "  <tbody>\n",
       "    <tr>\n",
       "      <th>0</th>\n",
       "      <td>C5841053</td>\n",
       "      <td>22</td>\n",
       "      <td>F</td>\n",
       "    </tr>\n",
       "    <tr>\n",
       "      <th>1</th>\n",
       "      <td>C2142763</td>\n",
       "      <td>59</td>\n",
       "      <td>M</td>\n",
       "    </tr>\n",
       "    <tr>\n",
       "      <th>2</th>\n",
       "      <td>C4417068</td>\n",
       "      <td>20</td>\n",
       "      <td>F</td>\n",
       "    </tr>\n",
       "    <tr>\n",
       "      <th>3</th>\n",
       "      <td>C5342380</td>\n",
       "      <td>43</td>\n",
       "      <td>F</td>\n",
       "    </tr>\n",
       "    <tr>\n",
       "      <th>4</th>\n",
       "      <td>C9031234</td>\n",
       "      <td>28</td>\n",
       "      <td>F</td>\n",
       "    </tr>\n",
       "    <tr>\n",
       "      <th>...</th>\n",
       "      <td>...</td>\n",
       "      <td>...</td>\n",
       "      <td>...</td>\n",
       "    </tr>\n",
       "    <tr>\n",
       "      <th>985468</th>\n",
       "      <td>C8020229</td>\n",
       "      <td>26</td>\n",
       "      <td>M</td>\n",
       "    </tr>\n",
       "    <tr>\n",
       "      <th>985469</th>\n",
       "      <td>C6459278</td>\n",
       "      <td>24</td>\n",
       "      <td>M</td>\n",
       "    </tr>\n",
       "    <tr>\n",
       "      <th>985470</th>\n",
       "      <td>C6412354</td>\n",
       "      <td>27</td>\n",
       "      <td>M</td>\n",
       "    </tr>\n",
       "    <tr>\n",
       "      <th>985471</th>\n",
       "      <td>C6420483</td>\n",
       "      <td>38</td>\n",
       "      <td>M</td>\n",
       "    </tr>\n",
       "    <tr>\n",
       "      <th>985472</th>\n",
       "      <td>C8337524</td>\n",
       "      <td>32</td>\n",
       "      <td>M</td>\n",
       "    </tr>\n",
       "  </tbody>\n",
       "</table>\n",
       "<p>985473 rows × 3 columns</p>\n",
       "</div>"
      ],
      "text/plain": [
       "              ID  Age Gender\n",
       "0       C5841053   22      F\n",
       "1       C2142763   59      M\n",
       "2       C4417068   20      F\n",
       "3       C5342380   43      F\n",
       "4       C9031234   28      F\n",
       "...          ...  ...    ...\n",
       "985468  C8020229   26      M\n",
       "985469  C6459278   24      M\n",
       "985470  C6412354   27      M\n",
       "985471  C6420483   38      M\n",
       "985472  C8337524   32      M\n",
       "\n",
       "[985473 rows x 3 columns]"
      ]
     },
     "execution_count": 21,
     "metadata": {},
     "output_type": "execute_result"
    }
   ],
   "source": [
    "customers"
   ]
  },
  {
   "cell_type": "markdown",
   "id": "2811798a",
   "metadata": {
    "papermill": {
     "duration": 0.015436,
     "end_time": "2024-01-04T21:20:37.728627",
     "exception": false,
     "start_time": "2024-01-04T21:20:37.713191",
     "status": "completed"
    },
    "tags": []
   },
   "source": [
    "There are conflicting entries, with one customer having two age. so we will find and remove such customers."
   ]
  },
  {
   "cell_type": "code",
   "execution_count": 22,
   "id": "c0ac75fa",
   "metadata": {
    "execution": {
     "iopub.execute_input": "2024-01-04T21:20:37.763755Z",
     "iopub.status.busy": "2024-01-04T21:20:37.763013Z",
     "iopub.status.idle": "2024-01-04T21:20:37.773311Z",
     "shell.execute_reply": "2024-01-04T21:20:37.772337Z"
    },
    "papermill": {
     "duration": 0.030925,
     "end_time": "2024-01-04T21:20:37.775984",
     "exception": false,
     "start_time": "2024-01-04T21:20:37.745059",
     "status": "completed"
    },
    "tags": []
   },
   "outputs": [],
   "source": [
    "details={}\n",
    "faulty=set()\n",
    "ids=customers.iloc[:,0].values\n",
    "age=customers.iloc[:,1].values\n",
    "gender=customers.iloc[:,2].values"
   ]
  },
  {
   "cell_type": "code",
   "execution_count": 23,
   "id": "bbec02fc",
   "metadata": {
    "execution": {
     "iopub.execute_input": "2024-01-04T21:20:37.817924Z",
     "iopub.status.busy": "2024-01-04T21:20:37.817043Z",
     "iopub.status.idle": "2024-01-04T21:20:37.822812Z",
     "shell.execute_reply": "2024-01-04T21:20:37.821797Z"
    },
    "papermill": {
     "duration": 0.033027,
     "end_time": "2024-01-04T21:20:37.825541",
     "exception": false,
     "start_time": "2024-01-04T21:20:37.792514",
     "status": "completed"
    },
    "tags": []
   },
   "outputs": [],
   "source": [
    "n=ids.shape[0]\n"
   ]
  },
  {
   "cell_type": "code",
   "execution_count": 24,
   "id": "ebc00254",
   "metadata": {
    "execution": {
     "iopub.execute_input": "2024-01-04T21:20:37.874726Z",
     "iopub.status.busy": "2024-01-04T21:20:37.874192Z",
     "iopub.status.idle": "2024-01-04T21:20:40.032982Z",
     "shell.execute_reply": "2024-01-04T21:20:40.032069Z"
    },
    "papermill": {
     "duration": 2.18759,
     "end_time": "2024-01-04T21:20:40.036275",
     "exception": false,
     "start_time": "2024-01-04T21:20:37.848685",
     "status": "completed"
    },
    "tags": []
   },
   "outputs": [],
   "source": [
    "for i in range(n):\n",
    "    cid=ids[i]\n",
    "    if(cid in details):\n",
    "        if(details[cid]==(age[i],gender[i])):\n",
    "            continue\n",
    "        else:\n",
    "            del(details[cid])\n",
    "            faulty.add(cid)\n",
    "    else:\n",
    "        if cid in faulty:\n",
    "            pass\n",
    "        else:\n",
    "            details[cid]=(age[i],gender[i])"
   ]
  },
  {
   "cell_type": "code",
   "execution_count": 25,
   "id": "22ceca73",
   "metadata": {
    "execution": {
     "iopub.execute_input": "2024-01-04T21:20:40.074655Z",
     "iopub.status.busy": "2024-01-04T21:20:40.074180Z",
     "iopub.status.idle": "2024-01-04T21:20:40.481873Z",
     "shell.execute_reply": "2024-01-04T21:20:40.480686Z"
    },
    "papermill": {
     "duration": 0.430585,
     "end_time": "2024-01-04T21:20:40.484726",
     "exception": false,
     "start_time": "2024-01-04T21:20:40.054141",
     "status": "completed"
    },
    "tags": []
   },
   "outputs": [
    {
     "data": {
      "text/plain": [
       "True"
      ]
     },
     "execution_count": 25,
     "metadata": {},
     "output_type": "execute_result"
    }
   ],
   "source": [
    "len(faulty)+len(details)==customers[\"ID\"].nunique()"
   ]
  },
  {
   "cell_type": "markdown",
   "id": "b76e762c",
   "metadata": {
    "execution": {
     "iopub.execute_input": "2024-01-04T19:51:53.099491Z",
     "iopub.status.busy": "2024-01-04T19:51:53.098981Z",
     "iopub.status.idle": "2024-01-04T19:51:53.107722Z",
     "shell.execute_reply": "2024-01-04T19:51:53.106398Z",
     "shell.execute_reply.started": "2024-01-04T19:51:53.099457Z"
    },
    "papermill": {
     "duration": 0.016411,
     "end_time": "2024-01-04T21:20:40.518380",
     "exception": false,
     "start_time": "2024-01-04T21:20:40.501969",
     "status": "completed"
    },
    "tags": []
   },
   "source": [
    "Our checking is right, thus we can remove."
   ]
  },
  {
   "cell_type": "code",
   "execution_count": 26,
   "id": "69fec9ae",
   "metadata": {
    "execution": {
     "iopub.execute_input": "2024-01-04T21:20:40.553703Z",
     "iopub.status.busy": "2024-01-04T21:20:40.553238Z",
     "iopub.status.idle": "2024-01-04T21:20:41.112662Z",
     "shell.execute_reply": "2024-01-04T21:20:41.110955Z"
    },
    "papermill": {
     "duration": 0.580737,
     "end_time": "2024-01-04T21:20:41.115676",
     "exception": false,
     "start_time": "2024-01-04T21:20:40.534939",
     "status": "completed"
    },
    "tags": []
   },
   "outputs": [],
   "source": [
    "customers=customers[~customers['ID'].isin(faulty)]"
   ]
  },
  {
   "cell_type": "code",
   "execution_count": 27,
   "id": "5e907078",
   "metadata": {
    "execution": {
     "iopub.execute_input": "2024-01-04T21:20:41.149956Z",
     "iopub.status.busy": "2024-01-04T21:20:41.149556Z",
     "iopub.status.idle": "2024-01-04T21:20:41.164730Z",
     "shell.execute_reply": "2024-01-04T21:20:41.163338Z"
    },
    "papermill": {
     "duration": 0.035449,
     "end_time": "2024-01-04T21:20:41.167397",
     "exception": false,
     "start_time": "2024-01-04T21:20:41.131948",
     "status": "completed"
    },
    "tags": []
   },
   "outputs": [
    {
     "data": {
      "text/html": [
       "<div>\n",
       "<style scoped>\n",
       "    .dataframe tbody tr th:only-of-type {\n",
       "        vertical-align: middle;\n",
       "    }\n",
       "\n",
       "    .dataframe tbody tr th {\n",
       "        vertical-align: top;\n",
       "    }\n",
       "\n",
       "    .dataframe thead th {\n",
       "        text-align: right;\n",
       "    }\n",
       "</style>\n",
       "<table border=\"1\" class=\"dataframe\">\n",
       "  <thead>\n",
       "    <tr style=\"text-align: right;\">\n",
       "      <th></th>\n",
       "      <th>ID</th>\n",
       "      <th>Age</th>\n",
       "      <th>Gender</th>\n",
       "    </tr>\n",
       "  </thead>\n",
       "  <tbody>\n",
       "    <tr>\n",
       "      <th>0</th>\n",
       "      <td>C5841053</td>\n",
       "      <td>22</td>\n",
       "      <td>F</td>\n",
       "    </tr>\n",
       "    <tr>\n",
       "      <th>1</th>\n",
       "      <td>C2142763</td>\n",
       "      <td>59</td>\n",
       "      <td>M</td>\n",
       "    </tr>\n",
       "    <tr>\n",
       "      <th>2</th>\n",
       "      <td>C4417068</td>\n",
       "      <td>20</td>\n",
       "      <td>F</td>\n",
       "    </tr>\n",
       "    <tr>\n",
       "      <th>4</th>\n",
       "      <td>C9031234</td>\n",
       "      <td>28</td>\n",
       "      <td>F</td>\n",
       "    </tr>\n",
       "    <tr>\n",
       "      <th>5</th>\n",
       "      <td>C1536588</td>\n",
       "      <td>44</td>\n",
       "      <td>F</td>\n",
       "    </tr>\n",
       "    <tr>\n",
       "      <th>...</th>\n",
       "      <td>...</td>\n",
       "      <td>...</td>\n",
       "      <td>...</td>\n",
       "    </tr>\n",
       "    <tr>\n",
       "      <th>985466</th>\n",
       "      <td>C5028150</td>\n",
       "      <td>36</td>\n",
       "      <td>M</td>\n",
       "    </tr>\n",
       "    <tr>\n",
       "      <th>985467</th>\n",
       "      <td>C1034220</td>\n",
       "      <td>24</td>\n",
       "      <td>M</td>\n",
       "    </tr>\n",
       "    <tr>\n",
       "      <th>985468</th>\n",
       "      <td>C8020229</td>\n",
       "      <td>26</td>\n",
       "      <td>M</td>\n",
       "    </tr>\n",
       "    <tr>\n",
       "      <th>985469</th>\n",
       "      <td>C6459278</td>\n",
       "      <td>24</td>\n",
       "      <td>M</td>\n",
       "    </tr>\n",
       "    <tr>\n",
       "      <th>985471</th>\n",
       "      <td>C6420483</td>\n",
       "      <td>38</td>\n",
       "      <td>M</td>\n",
       "    </tr>\n",
       "  </tbody>\n",
       "</table>\n",
       "<p>718288 rows × 3 columns</p>\n",
       "</div>"
      ],
      "text/plain": [
       "              ID  Age Gender\n",
       "0       C5841053   22      F\n",
       "1       C2142763   59      M\n",
       "2       C4417068   20      F\n",
       "4       C9031234   28      F\n",
       "5       C1536588   44      F\n",
       "...          ...  ...    ...\n",
       "985466  C5028150   36      M\n",
       "985467  C1034220   24      M\n",
       "985468  C8020229   26      M\n",
       "985469  C6459278   24      M\n",
       "985471  C6420483   38      M\n",
       "\n",
       "[718288 rows x 3 columns]"
      ]
     },
     "execution_count": 27,
     "metadata": {},
     "output_type": "execute_result"
    }
   ],
   "source": [
    "customers"
   ]
  },
  {
   "cell_type": "code",
   "execution_count": 28,
   "id": "3b7fdd11",
   "metadata": {
    "execution": {
     "iopub.execute_input": "2024-01-04T21:20:41.202239Z",
     "iopub.status.busy": "2024-01-04T21:20:41.201845Z",
     "iopub.status.idle": "2024-01-04T21:20:41.929031Z",
     "shell.execute_reply": "2024-01-04T21:20:41.927704Z"
    },
    "papermill": {
     "duration": 0.748384,
     "end_time": "2024-01-04T21:20:41.932034",
     "exception": false,
     "start_time": "2024-01-04T21:20:41.183650",
     "status": "completed"
    },
    "tags": []
   },
   "outputs": [],
   "source": [
    "df=df[~df['CustomerID'].isin(faulty)]"
   ]
  },
  {
   "cell_type": "code",
   "execution_count": 29,
   "id": "a06335ac",
   "metadata": {
    "execution": {
     "iopub.execute_input": "2024-01-04T21:20:41.969582Z",
     "iopub.status.busy": "2024-01-04T21:20:41.968958Z",
     "iopub.status.idle": "2024-01-04T21:20:41.994649Z",
     "shell.execute_reply": "2024-01-04T21:20:41.993164Z"
    },
    "papermill": {
     "duration": 0.048771,
     "end_time": "2024-01-04T21:20:41.997768",
     "exception": false,
     "start_time": "2024-01-04T21:20:41.948997",
     "status": "completed"
    },
    "tags": []
   },
   "outputs": [
    {
     "data": {
      "text/html": [
       "<div>\n",
       "<style scoped>\n",
       "    .dataframe tbody tr th:only-of-type {\n",
       "        vertical-align: middle;\n",
       "    }\n",
       "\n",
       "    .dataframe tbody tr th {\n",
       "        vertical-align: top;\n",
       "    }\n",
       "\n",
       "    .dataframe thead th {\n",
       "        text-align: right;\n",
       "    }\n",
       "</style>\n",
       "<table border=\"1\" class=\"dataframe\">\n",
       "  <thead>\n",
       "    <tr style=\"text-align: right;\">\n",
       "      <th></th>\n",
       "      <th>CustomerID</th>\n",
       "      <th>CustomerDOB</th>\n",
       "      <th>CustGender</th>\n",
       "      <th>CustAccountBalance</th>\n",
       "      <th>TransactionDate</th>\n",
       "      <th>TransactionTime</th>\n",
       "      <th>TransactionAmount (INR)</th>\n",
       "      <th>age</th>\n",
       "    </tr>\n",
       "  </thead>\n",
       "  <tbody>\n",
       "    <tr>\n",
       "      <th>0</th>\n",
       "      <td>C5841053</td>\n",
       "      <td>10/1/94</td>\n",
       "      <td>F</td>\n",
       "      <td>17819.05</td>\n",
       "      <td>2/8/16</td>\n",
       "      <td>143207</td>\n",
       "      <td>25.0</td>\n",
       "      <td>22</td>\n",
       "    </tr>\n",
       "    <tr>\n",
       "      <th>1</th>\n",
       "      <td>C2142763</td>\n",
       "      <td>4/4/57</td>\n",
       "      <td>M</td>\n",
       "      <td>2270.69</td>\n",
       "      <td>2/8/16</td>\n",
       "      <td>141858</td>\n",
       "      <td>27999.0</td>\n",
       "      <td>59</td>\n",
       "    </tr>\n",
       "    <tr>\n",
       "      <th>2</th>\n",
       "      <td>C4417068</td>\n",
       "      <td>26/11/96</td>\n",
       "      <td>F</td>\n",
       "      <td>17874.44</td>\n",
       "      <td>2/8/16</td>\n",
       "      <td>142712</td>\n",
       "      <td>459.0</td>\n",
       "      <td>20</td>\n",
       "    </tr>\n",
       "    <tr>\n",
       "      <th>4</th>\n",
       "      <td>C9031234</td>\n",
       "      <td>24/3/88</td>\n",
       "      <td>F</td>\n",
       "      <td>6714.43</td>\n",
       "      <td>2/8/16</td>\n",
       "      <td>181156</td>\n",
       "      <td>1762.5</td>\n",
       "      <td>28</td>\n",
       "    </tr>\n",
       "    <tr>\n",
       "      <th>5</th>\n",
       "      <td>C1536588</td>\n",
       "      <td>8/10/72</td>\n",
       "      <td>F</td>\n",
       "      <td>53609.20</td>\n",
       "      <td>2/8/16</td>\n",
       "      <td>173940</td>\n",
       "      <td>676.0</td>\n",
       "      <td>44</td>\n",
       "    </tr>\n",
       "    <tr>\n",
       "      <th>...</th>\n",
       "      <td>...</td>\n",
       "      <td>...</td>\n",
       "      <td>...</td>\n",
       "      <td>...</td>\n",
       "      <td>...</td>\n",
       "      <td>...</td>\n",
       "      <td>...</td>\n",
       "      <td>...</td>\n",
       "    </tr>\n",
       "    <tr>\n",
       "      <th>1048560</th>\n",
       "      <td>C5028150</td>\n",
       "      <td>24/5/80</td>\n",
       "      <td>M</td>\n",
       "      <td>464.87</td>\n",
       "      <td>18/9/16</td>\n",
       "      <td>184632</td>\n",
       "      <td>3000.0</td>\n",
       "      <td>36</td>\n",
       "    </tr>\n",
       "    <tr>\n",
       "      <th>1048561</th>\n",
       "      <td>C1034220</td>\n",
       "      <td>19/11/92</td>\n",
       "      <td>M</td>\n",
       "      <td>1212.70</td>\n",
       "      <td>18/9/16</td>\n",
       "      <td>184734</td>\n",
       "      <td>1500.0</td>\n",
       "      <td>24</td>\n",
       "    </tr>\n",
       "    <tr>\n",
       "      <th>1048562</th>\n",
       "      <td>C8020229</td>\n",
       "      <td>8/4/90</td>\n",
       "      <td>M</td>\n",
       "      <td>7635.19</td>\n",
       "      <td>18/9/16</td>\n",
       "      <td>184824</td>\n",
       "      <td>799.0</td>\n",
       "      <td>26</td>\n",
       "    </tr>\n",
       "    <tr>\n",
       "      <th>1048563</th>\n",
       "      <td>C6459278</td>\n",
       "      <td>20/2/92</td>\n",
       "      <td>M</td>\n",
       "      <td>27311.42</td>\n",
       "      <td>18/9/16</td>\n",
       "      <td>183734</td>\n",
       "      <td>460.0</td>\n",
       "      <td>24</td>\n",
       "    </tr>\n",
       "    <tr>\n",
       "      <th>1048565</th>\n",
       "      <td>C6420483</td>\n",
       "      <td>30/8/78</td>\n",
       "      <td>M</td>\n",
       "      <td>10117.87</td>\n",
       "      <td>18/9/16</td>\n",
       "      <td>184706</td>\n",
       "      <td>1000.0</td>\n",
       "      <td>38</td>\n",
       "    </tr>\n",
       "  </tbody>\n",
       "</table>\n",
       "<p>718288 rows × 8 columns</p>\n",
       "</div>"
      ],
      "text/plain": [
       "        CustomerID CustomerDOB CustGender  CustAccountBalance TransactionDate  \\\n",
       "0         C5841053     10/1/94          F            17819.05          2/8/16   \n",
       "1         C2142763      4/4/57          M             2270.69          2/8/16   \n",
       "2         C4417068    26/11/96          F            17874.44          2/8/16   \n",
       "4         C9031234     24/3/88          F             6714.43          2/8/16   \n",
       "5         C1536588     8/10/72          F            53609.20          2/8/16   \n",
       "...            ...         ...        ...                 ...             ...   \n",
       "1048560   C5028150     24/5/80          M              464.87         18/9/16   \n",
       "1048561   C1034220    19/11/92          M             1212.70         18/9/16   \n",
       "1048562   C8020229      8/4/90          M             7635.19         18/9/16   \n",
       "1048563   C6459278     20/2/92          M            27311.42         18/9/16   \n",
       "1048565   C6420483     30/8/78          M            10117.87         18/9/16   \n",
       "\n",
       "         TransactionTime  TransactionAmount (INR)  age  \n",
       "0                 143207                     25.0   22  \n",
       "1                 141858                  27999.0   59  \n",
       "2                 142712                    459.0   20  \n",
       "4                 181156                   1762.5   28  \n",
       "5                 173940                    676.0   44  \n",
       "...                  ...                      ...  ...  \n",
       "1048560           184632                   3000.0   36  \n",
       "1048561           184734                   1500.0   24  \n",
       "1048562           184824                    799.0   26  \n",
       "1048563           183734                    460.0   24  \n",
       "1048565           184706                   1000.0   38  \n",
       "\n",
       "[718288 rows x 8 columns]"
      ]
     },
     "execution_count": 29,
     "metadata": {},
     "output_type": "execute_result"
    }
   ],
   "source": [
    "df"
   ]
  },
  {
   "cell_type": "code",
   "execution_count": 30,
   "id": "ac1078fa",
   "metadata": {
    "execution": {
     "iopub.execute_input": "2024-01-04T21:20:42.038922Z",
     "iopub.status.busy": "2024-01-04T21:20:42.038455Z",
     "iopub.status.idle": "2024-01-04T21:20:42.594815Z",
     "shell.execute_reply": "2024-01-04T21:20:42.593867Z"
    },
    "papermill": {
     "duration": 0.578641,
     "end_time": "2024-01-04T21:20:42.597829",
     "exception": false,
     "start_time": "2024-01-04T21:20:42.019188",
     "status": "completed"
    },
    "tags": []
   },
   "outputs": [
    {
     "name": "stderr",
     "output_type": "stream",
     "text": [
      "/tmp/ipykernel_19/2534375925.py:1: SettingWithCopyWarning: \n",
      "A value is trying to be set on a copy of a slice from a DataFrame\n",
      "\n",
      "See the caveats in the documentation: https://pandas.pydata.org/pandas-docs/stable/user_guide/indexing.html#returning-a-view-versus-a-copy\n",
      "  customers.drop_duplicates(inplace=True)\n"
     ]
    }
   ],
   "source": [
    "customers.drop_duplicates(inplace=True)"
   ]
  },
  {
   "cell_type": "code",
   "execution_count": 31,
   "id": "9399c057",
   "metadata": {
    "execution": {
     "iopub.execute_input": "2024-01-04T21:20:42.637545Z",
     "iopub.status.busy": "2024-01-04T21:20:42.636415Z",
     "iopub.status.idle": "2024-01-04T21:20:42.651395Z",
     "shell.execute_reply": "2024-01-04T21:20:42.650187Z"
    },
    "papermill": {
     "duration": 0.036811,
     "end_time": "2024-01-04T21:20:42.654083",
     "exception": false,
     "start_time": "2024-01-04T21:20:42.617272",
     "status": "completed"
    },
    "tags": []
   },
   "outputs": [
    {
     "data": {
      "text/html": [
       "<div>\n",
       "<style scoped>\n",
       "    .dataframe tbody tr th:only-of-type {\n",
       "        vertical-align: middle;\n",
       "    }\n",
       "\n",
       "    .dataframe tbody tr th {\n",
       "        vertical-align: top;\n",
       "    }\n",
       "\n",
       "    .dataframe thead th {\n",
       "        text-align: right;\n",
       "    }\n",
       "</style>\n",
       "<table border=\"1\" class=\"dataframe\">\n",
       "  <thead>\n",
       "    <tr style=\"text-align: right;\">\n",
       "      <th></th>\n",
       "      <th>ID</th>\n",
       "      <th>Age</th>\n",
       "      <th>Gender</th>\n",
       "    </tr>\n",
       "  </thead>\n",
       "  <tbody>\n",
       "    <tr>\n",
       "      <th>0</th>\n",
       "      <td>C5841053</td>\n",
       "      <td>22</td>\n",
       "      <td>F</td>\n",
       "    </tr>\n",
       "    <tr>\n",
       "      <th>1</th>\n",
       "      <td>C2142763</td>\n",
       "      <td>59</td>\n",
       "      <td>M</td>\n",
       "    </tr>\n",
       "    <tr>\n",
       "      <th>2</th>\n",
       "      <td>C4417068</td>\n",
       "      <td>20</td>\n",
       "      <td>F</td>\n",
       "    </tr>\n",
       "    <tr>\n",
       "      <th>4</th>\n",
       "      <td>C9031234</td>\n",
       "      <td>28</td>\n",
       "      <td>F</td>\n",
       "    </tr>\n",
       "    <tr>\n",
       "      <th>5</th>\n",
       "      <td>C1536588</td>\n",
       "      <td>44</td>\n",
       "      <td>F</td>\n",
       "    </tr>\n",
       "    <tr>\n",
       "      <th>...</th>\n",
       "      <td>...</td>\n",
       "      <td>...</td>\n",
       "      <td>...</td>\n",
       "    </tr>\n",
       "    <tr>\n",
       "      <th>985466</th>\n",
       "      <td>C5028150</td>\n",
       "      <td>36</td>\n",
       "      <td>M</td>\n",
       "    </tr>\n",
       "    <tr>\n",
       "      <th>985467</th>\n",
       "      <td>C1034220</td>\n",
       "      <td>24</td>\n",
       "      <td>M</td>\n",
       "    </tr>\n",
       "    <tr>\n",
       "      <th>985468</th>\n",
       "      <td>C8020229</td>\n",
       "      <td>26</td>\n",
       "      <td>M</td>\n",
       "    </tr>\n",
       "    <tr>\n",
       "      <th>985469</th>\n",
       "      <td>C6459278</td>\n",
       "      <td>24</td>\n",
       "      <td>M</td>\n",
       "    </tr>\n",
       "    <tr>\n",
       "      <th>985471</th>\n",
       "      <td>C6420483</td>\n",
       "      <td>38</td>\n",
       "      <td>M</td>\n",
       "    </tr>\n",
       "  </tbody>\n",
       "</table>\n",
       "<p>714266 rows × 3 columns</p>\n",
       "</div>"
      ],
      "text/plain": [
       "              ID  Age Gender\n",
       "0       C5841053   22      F\n",
       "1       C2142763   59      M\n",
       "2       C4417068   20      F\n",
       "4       C9031234   28      F\n",
       "5       C1536588   44      F\n",
       "...          ...  ...    ...\n",
       "985466  C5028150   36      M\n",
       "985467  C1034220   24      M\n",
       "985468  C8020229   26      M\n",
       "985469  C6459278   24      M\n",
       "985471  C6420483   38      M\n",
       "\n",
       "[714266 rows x 3 columns]"
      ]
     },
     "execution_count": 31,
     "metadata": {},
     "output_type": "execute_result"
    }
   ],
   "source": [
    "customers"
   ]
  },
  {
   "cell_type": "code",
   "execution_count": 32,
   "id": "1f4bd63e",
   "metadata": {
    "execution": {
     "iopub.execute_input": "2024-01-04T21:20:42.693668Z",
     "iopub.status.busy": "2024-01-04T21:20:42.692936Z",
     "iopub.status.idle": "2024-01-04T21:20:45.241176Z",
     "shell.execute_reply": "2024-01-04T21:20:45.239581Z"
    },
    "papermill": {
     "duration": 2.570596,
     "end_time": "2024-01-04T21:20:45.244449",
     "exception": false,
     "start_time": "2024-01-04T21:20:42.673853",
     "status": "completed"
    },
    "tags": []
   },
   "outputs": [],
   "source": [
    "customers.to_csv(\"Customers_data.csv\")"
   ]
  },
  {
   "cell_type": "markdown",
   "id": "254f4af8",
   "metadata": {
    "papermill": {
     "duration": 0.018307,
     "end_time": "2024-01-04T21:20:45.280073",
     "exception": false,
     "start_time": "2024-01-04T21:20:45.261766",
     "status": "completed"
    },
    "tags": []
   },
   "source": [
    "# Cleaning and making transactions data"
   ]
  },
  {
   "cell_type": "code",
   "execution_count": 33,
   "id": "1367dfc3",
   "metadata": {
    "execution": {
     "iopub.execute_input": "2024-01-04T21:20:45.318645Z",
     "iopub.status.busy": "2024-01-04T21:20:45.318168Z",
     "iopub.status.idle": "2024-01-04T21:20:45.337024Z",
     "shell.execute_reply": "2024-01-04T21:20:45.335486Z"
    },
    "papermill": {
     "duration": 0.04219,
     "end_time": "2024-01-04T21:20:45.340184",
     "exception": false,
     "start_time": "2024-01-04T21:20:45.297994",
     "status": "completed"
    },
    "tags": []
   },
   "outputs": [
    {
     "data": {
      "text/html": [
       "<div>\n",
       "<style scoped>\n",
       "    .dataframe tbody tr th:only-of-type {\n",
       "        vertical-align: middle;\n",
       "    }\n",
       "\n",
       "    .dataframe tbody tr th {\n",
       "        vertical-align: top;\n",
       "    }\n",
       "\n",
       "    .dataframe thead th {\n",
       "        text-align: right;\n",
       "    }\n",
       "</style>\n",
       "<table border=\"1\" class=\"dataframe\">\n",
       "  <thead>\n",
       "    <tr style=\"text-align: right;\">\n",
       "      <th></th>\n",
       "      <th>CustomerID</th>\n",
       "      <th>CustomerDOB</th>\n",
       "      <th>CustGender</th>\n",
       "      <th>CustAccountBalance</th>\n",
       "      <th>TransactionDate</th>\n",
       "      <th>TransactionTime</th>\n",
       "      <th>TransactionAmount (INR)</th>\n",
       "      <th>age</th>\n",
       "    </tr>\n",
       "  </thead>\n",
       "  <tbody>\n",
       "    <tr>\n",
       "      <th>0</th>\n",
       "      <td>C5841053</td>\n",
       "      <td>10/1/94</td>\n",
       "      <td>F</td>\n",
       "      <td>17819.05</td>\n",
       "      <td>2/8/16</td>\n",
       "      <td>143207</td>\n",
       "      <td>25.0</td>\n",
       "      <td>22</td>\n",
       "    </tr>\n",
       "    <tr>\n",
       "      <th>1</th>\n",
       "      <td>C2142763</td>\n",
       "      <td>4/4/57</td>\n",
       "      <td>M</td>\n",
       "      <td>2270.69</td>\n",
       "      <td>2/8/16</td>\n",
       "      <td>141858</td>\n",
       "      <td>27999.0</td>\n",
       "      <td>59</td>\n",
       "    </tr>\n",
       "    <tr>\n",
       "      <th>2</th>\n",
       "      <td>C4417068</td>\n",
       "      <td>26/11/96</td>\n",
       "      <td>F</td>\n",
       "      <td>17874.44</td>\n",
       "      <td>2/8/16</td>\n",
       "      <td>142712</td>\n",
       "      <td>459.0</td>\n",
       "      <td>20</td>\n",
       "    </tr>\n",
       "    <tr>\n",
       "      <th>4</th>\n",
       "      <td>C9031234</td>\n",
       "      <td>24/3/88</td>\n",
       "      <td>F</td>\n",
       "      <td>6714.43</td>\n",
       "      <td>2/8/16</td>\n",
       "      <td>181156</td>\n",
       "      <td>1762.5</td>\n",
       "      <td>28</td>\n",
       "    </tr>\n",
       "    <tr>\n",
       "      <th>5</th>\n",
       "      <td>C1536588</td>\n",
       "      <td>8/10/72</td>\n",
       "      <td>F</td>\n",
       "      <td>53609.20</td>\n",
       "      <td>2/8/16</td>\n",
       "      <td>173940</td>\n",
       "      <td>676.0</td>\n",
       "      <td>44</td>\n",
       "    </tr>\n",
       "  </tbody>\n",
       "</table>\n",
       "</div>"
      ],
      "text/plain": [
       "  CustomerID CustomerDOB CustGender  CustAccountBalance TransactionDate  \\\n",
       "0   C5841053     10/1/94          F            17819.05          2/8/16   \n",
       "1   C2142763      4/4/57          M             2270.69          2/8/16   \n",
       "2   C4417068    26/11/96          F            17874.44          2/8/16   \n",
       "4   C9031234     24/3/88          F             6714.43          2/8/16   \n",
       "5   C1536588     8/10/72          F            53609.20          2/8/16   \n",
       "\n",
       "   TransactionTime  TransactionAmount (INR)  age  \n",
       "0           143207                     25.0   22  \n",
       "1           141858                  27999.0   59  \n",
       "2           142712                    459.0   20  \n",
       "4           181156                   1762.5   28  \n",
       "5           173940                    676.0   44  "
      ]
     },
     "execution_count": 33,
     "metadata": {},
     "output_type": "execute_result"
    }
   ],
   "source": [
    "df.head()"
   ]
  },
  {
   "cell_type": "code",
   "execution_count": 34,
   "id": "8dda704f",
   "metadata": {
    "execution": {
     "iopub.execute_input": "2024-01-04T21:20:45.380236Z",
     "iopub.status.busy": "2024-01-04T21:20:45.379042Z",
     "iopub.status.idle": "2024-01-04T21:20:45.527619Z",
     "shell.execute_reply": "2024-01-04T21:20:45.526242Z"
    },
    "papermill": {
     "duration": 0.171825,
     "end_time": "2024-01-04T21:20:45.530767",
     "exception": false,
     "start_time": "2024-01-04T21:20:45.358942",
     "status": "completed"
    },
    "tags": []
   },
   "outputs": [],
   "source": [
    "df=df.drop(\"CustGender\",axis=1)\n",
    "df=df.drop(\"CustomerDOB\",axis=1)\n",
    "df=df.drop(\"age\",axis=1)"
   ]
  },
  {
   "cell_type": "code",
   "execution_count": 35,
   "id": "817b79d8",
   "metadata": {
    "execution": {
     "iopub.execute_input": "2024-01-04T21:20:45.569425Z",
     "iopub.status.busy": "2024-01-04T21:20:45.568597Z",
     "iopub.status.idle": "2024-01-04T21:20:45.599415Z",
     "shell.execute_reply": "2024-01-04T21:20:45.598448Z"
    },
    "papermill": {
     "duration": 0.053537,
     "end_time": "2024-01-04T21:20:45.602527",
     "exception": false,
     "start_time": "2024-01-04T21:20:45.548990",
     "status": "completed"
    },
    "tags": []
   },
   "outputs": [],
   "source": [
    "df=df.drop(\"TransactionDate\",axis=1)"
   ]
  },
  {
   "cell_type": "code",
   "execution_count": 36,
   "id": "1b3c658a",
   "metadata": {
    "execution": {
     "iopub.execute_input": "2024-01-04T21:20:45.641288Z",
     "iopub.status.busy": "2024-01-04T21:20:45.640443Z",
     "iopub.status.idle": "2024-01-04T21:20:45.658168Z",
     "shell.execute_reply": "2024-01-04T21:20:45.657064Z"
    },
    "papermill": {
     "duration": 0.040803,
     "end_time": "2024-01-04T21:20:45.661736",
     "exception": false,
     "start_time": "2024-01-04T21:20:45.620933",
     "status": "completed"
    },
    "tags": []
   },
   "outputs": [
    {
     "data": {
      "text/html": [
       "<div>\n",
       "<style scoped>\n",
       "    .dataframe tbody tr th:only-of-type {\n",
       "        vertical-align: middle;\n",
       "    }\n",
       "\n",
       "    .dataframe tbody tr th {\n",
       "        vertical-align: top;\n",
       "    }\n",
       "\n",
       "    .dataframe thead th {\n",
       "        text-align: right;\n",
       "    }\n",
       "</style>\n",
       "<table border=\"1\" class=\"dataframe\">\n",
       "  <thead>\n",
       "    <tr style=\"text-align: right;\">\n",
       "      <th></th>\n",
       "      <th>CustomerID</th>\n",
       "      <th>CustAccountBalance</th>\n",
       "      <th>TransactionTime</th>\n",
       "      <th>TransactionAmount (INR)</th>\n",
       "    </tr>\n",
       "  </thead>\n",
       "  <tbody>\n",
       "    <tr>\n",
       "      <th>0</th>\n",
       "      <td>C5841053</td>\n",
       "      <td>17819.05</td>\n",
       "      <td>143207</td>\n",
       "      <td>25.0</td>\n",
       "    </tr>\n",
       "    <tr>\n",
       "      <th>1</th>\n",
       "      <td>C2142763</td>\n",
       "      <td>2270.69</td>\n",
       "      <td>141858</td>\n",
       "      <td>27999.0</td>\n",
       "    </tr>\n",
       "    <tr>\n",
       "      <th>2</th>\n",
       "      <td>C4417068</td>\n",
       "      <td>17874.44</td>\n",
       "      <td>142712</td>\n",
       "      <td>459.0</td>\n",
       "    </tr>\n",
       "    <tr>\n",
       "      <th>4</th>\n",
       "      <td>C9031234</td>\n",
       "      <td>6714.43</td>\n",
       "      <td>181156</td>\n",
       "      <td>1762.5</td>\n",
       "    </tr>\n",
       "    <tr>\n",
       "      <th>5</th>\n",
       "      <td>C1536588</td>\n",
       "      <td>53609.20</td>\n",
       "      <td>173940</td>\n",
       "      <td>676.0</td>\n",
       "    </tr>\n",
       "    <tr>\n",
       "      <th>...</th>\n",
       "      <td>...</td>\n",
       "      <td>...</td>\n",
       "      <td>...</td>\n",
       "      <td>...</td>\n",
       "    </tr>\n",
       "    <tr>\n",
       "      <th>1048560</th>\n",
       "      <td>C5028150</td>\n",
       "      <td>464.87</td>\n",
       "      <td>184632</td>\n",
       "      <td>3000.0</td>\n",
       "    </tr>\n",
       "    <tr>\n",
       "      <th>1048561</th>\n",
       "      <td>C1034220</td>\n",
       "      <td>1212.70</td>\n",
       "      <td>184734</td>\n",
       "      <td>1500.0</td>\n",
       "    </tr>\n",
       "    <tr>\n",
       "      <th>1048562</th>\n",
       "      <td>C8020229</td>\n",
       "      <td>7635.19</td>\n",
       "      <td>184824</td>\n",
       "      <td>799.0</td>\n",
       "    </tr>\n",
       "    <tr>\n",
       "      <th>1048563</th>\n",
       "      <td>C6459278</td>\n",
       "      <td>27311.42</td>\n",
       "      <td>183734</td>\n",
       "      <td>460.0</td>\n",
       "    </tr>\n",
       "    <tr>\n",
       "      <th>1048565</th>\n",
       "      <td>C6420483</td>\n",
       "      <td>10117.87</td>\n",
       "      <td>184706</td>\n",
       "      <td>1000.0</td>\n",
       "    </tr>\n",
       "  </tbody>\n",
       "</table>\n",
       "<p>718288 rows × 4 columns</p>\n",
       "</div>"
      ],
      "text/plain": [
       "        CustomerID  CustAccountBalance  TransactionTime  \\\n",
       "0         C5841053            17819.05           143207   \n",
       "1         C2142763             2270.69           141858   \n",
       "2         C4417068            17874.44           142712   \n",
       "4         C9031234             6714.43           181156   \n",
       "5         C1536588            53609.20           173940   \n",
       "...            ...                 ...              ...   \n",
       "1048560   C5028150              464.87           184632   \n",
       "1048561   C1034220             1212.70           184734   \n",
       "1048562   C8020229             7635.19           184824   \n",
       "1048563   C6459278            27311.42           183734   \n",
       "1048565   C6420483            10117.87           184706   \n",
       "\n",
       "         TransactionAmount (INR)  \n",
       "0                           25.0  \n",
       "1                        27999.0  \n",
       "2                          459.0  \n",
       "4                         1762.5  \n",
       "5                          676.0  \n",
       "...                          ...  \n",
       "1048560                   3000.0  \n",
       "1048561                   1500.0  \n",
       "1048562                    799.0  \n",
       "1048563                    460.0  \n",
       "1048565                   1000.0  \n",
       "\n",
       "[718288 rows x 4 columns]"
      ]
     },
     "execution_count": 36,
     "metadata": {},
     "output_type": "execute_result"
    }
   ],
   "source": [
    "df"
   ]
  },
  {
   "cell_type": "code",
   "execution_count": 37,
   "id": "05616fc9",
   "metadata": {
    "execution": {
     "iopub.execute_input": "2024-01-04T21:20:45.702389Z",
     "iopub.status.busy": "2024-01-04T21:20:45.701933Z",
     "iopub.status.idle": "2024-01-04T21:20:50.050308Z",
     "shell.execute_reply": "2024-01-04T21:20:50.048567Z"
    },
    "papermill": {
     "duration": 4.372449,
     "end_time": "2024-01-04T21:20:50.054023",
     "exception": false,
     "start_time": "2024-01-04T21:20:45.681574",
     "status": "completed"
    },
    "tags": []
   },
   "outputs": [],
   "source": [
    "df.to_csv(\"Transaction_details.csv\")"
   ]
  }
 ],
 "metadata": {
  "kaggle": {
   "accelerator": "none",
   "dataSources": [
    {
     "datasetId": 1672910,
     "sourceId": 2743905,
     "sourceType": "datasetVersion"
    }
   ],
   "dockerImageVersionId": 30626,
   "isGpuEnabled": false,
   "isInternetEnabled": true,
   "language": "python",
   "sourceType": "notebook"
  },
  "kernelspec": {
   "display_name": "Python 3",
   "language": "python",
   "name": "python3"
  },
  "language_info": {
   "codemirror_mode": {
    "name": "ipython",
    "version": 3
   },
   "file_extension": ".py",
   "mimetype": "text/x-python",
   "name": "python",
   "nbconvert_exporter": "python",
   "pygments_lexer": "ipython3",
   "version": "3.10.12"
  },
  "papermill": {
   "default_parameters": {},
   "duration": 52.077881,
   "end_time": "2024-01-04T21:20:51.200182",
   "environment_variables": {},
   "exception": null,
   "input_path": "__notebook__.ipynb",
   "output_path": "__notebook__.ipynb",
   "parameters": {},
   "start_time": "2024-01-04T21:19:59.122301",
   "version": "2.4.0"
  }
 },
 "nbformat": 4,
 "nbformat_minor": 5
}
